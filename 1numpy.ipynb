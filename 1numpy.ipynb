{
 "cells": [
  {
   "cell_type": "code",
   "execution_count": 27,
   "id": "8c36ffe7-5ef5-4a3c-a3b4-d0261d29518b",
   "metadata": {},
   "outputs": [],
   "source": [
    "import numpy as np"
   ]
  },
  {
   "cell_type": "code",
   "execution_count": 28,
   "id": "857f09ce-27bd-4201-b9db-006063fd4646",
   "metadata": {},
   "outputs": [],
   "source": [
    "l= [1,2,3,4]"
   ]
  },
  {
   "cell_type": "code",
   "execution_count": 29,
   "id": "29f2e379-761e-4263-9bdc-4b11fde92fbb",
   "metadata": {},
   "outputs": [],
   "source": [
    "ar= np.array(l)"
   ]
  },
  {
   "cell_type": "code",
   "execution_count": 4,
   "id": "d29032b1-e2b8-47a1-b6c8-fe5883d5c99a",
   "metadata": {},
   "outputs": [
    {
     "data": {
      "text/plain": [
       "numpy.ndarray"
      ]
     },
     "execution_count": 4,
     "metadata": {},
     "output_type": "execute_result"
    }
   ],
   "source": [
    "type(ar)"
   ]
  },
  {
   "cell_type": "code",
   "execution_count": 5,
   "id": "8870cb3c-cfd7-463a-a67b-0c2818a34587",
   "metadata": {},
   "outputs": [
    {
     "data": {
      "text/plain": [
       "array([1, 2, 3, 4])"
      ]
     },
     "execution_count": 5,
     "metadata": {},
     "output_type": "execute_result"
    }
   ],
   "source": [
    "ar"
   ]
  },
  {
   "cell_type": "code",
   "execution_count": 6,
   "id": "f1cb9530-6341-45b2-8593-5c8b6f62a785",
   "metadata": {},
   "outputs": [
    {
     "data": {
      "text/plain": [
       "array([[1, 2],\n",
       "       [4, 5]])"
      ]
     },
     "execution_count": 6,
     "metadata": {},
     "output_type": "execute_result"
    }
   ],
   "source": [
    "np.array([[1,2], [4,5]])"
   ]
  },
  {
   "cell_type": "code",
   "execution_count": 7,
   "id": "b70872aa-213e-4a35-83b4-c1608c096be7",
   "metadata": {},
   "outputs": [
    {
     "data": {
      "text/plain": [
       "array([1, 2, 3, 4])"
      ]
     },
     "execution_count": 7,
     "metadata": {},
     "output_type": "execute_result"
    }
   ],
   "source": [
    "np.asarray(l)"
   ]
  },
  {
   "cell_type": "code",
   "execution_count": 8,
   "id": "dd73a2b7-0677-4f0c-b52a-d3ad8cadbb21",
   "metadata": {},
   "outputs": [],
   "source": [
    "a= [4,5,6]"
   ]
  },
  {
   "cell_type": "code",
   "execution_count": 9,
   "id": "70da6c2b-2fb3-4683-8cf3-d7321e031c6f",
   "metadata": {},
   "outputs": [
    {
     "data": {
      "text/plain": [
       "array([4, 5, 6])"
      ]
     },
     "execution_count": 9,
     "metadata": {},
     "output_type": "execute_result"
    }
   ],
   "source": [
    "np.asanyarray(a)"
   ]
  },
  {
   "cell_type": "code",
   "execution_count": 10,
   "id": "0dd42be7-29e3-48eb-9e70-a5c0765f5b1d",
   "metadata": {},
   "outputs": [],
   "source": [
    "#always bydefault 2d hota hai\n",
    "#matrix is subset of array. array become superclass in numpy\n",
    "\n",
    "b= np.matrix(l)"
   ]
  },
  {
   "cell_type": "code",
   "execution_count": 11,
   "id": "cbc5a867-827d-4796-970b-41819f9de246",
   "metadata": {},
   "outputs": [
    {
     "data": {
      "text/plain": [
       "matrix([[1, 2, 3, 4]])"
      ]
     },
     "execution_count": 11,
     "metadata": {},
     "output_type": "execute_result"
    }
   ],
   "source": [
    "b"
   ]
  },
  {
   "cell_type": "code",
   "execution_count": 14,
   "id": "c576d4ca-d983-4432-9776-8aaf180ee5c8",
   "metadata": {},
   "outputs": [
    {
     "data": {
      "text/plain": [
       "matrix([[1, 2, 3, 4]])"
      ]
     },
     "execution_count": 14,
     "metadata": {},
     "output_type": "execute_result"
    }
   ],
   "source": [
    "#asanyarray kisi bhi array ke form me change karta hai\n",
    "#matrix ko dala asanyarray ke andar to change nahi kiya as it is chod diya bcoz matrix to bydefault suset of array hai\n",
    "#to matrix ki kadhi hi overt nahi karne vala\n",
    "np.asanyarray(b)"
   ]
  },
  {
   "cell_type": "code",
   "execution_count": 15,
   "id": "e31f3a6e-7fd6-4706-af41-e8bf3bc0fad4",
   "metadata": {},
   "outputs": [],
   "source": [
    "a= np.array(l)"
   ]
  },
  {
   "cell_type": "code",
   "execution_count": 23,
   "id": "cf3bedc0-120f-4547-90b0-a47be2ed58e1",
   "metadata": {},
   "outputs": [],
   "source": [
    "#swollo coly\n",
    "c= a"
   ]
  },
  {
   "cell_type": "code",
   "execution_count": 17,
   "id": "b46cde7b-07ff-4b0d-9403-dddfdbec2035",
   "metadata": {},
   "outputs": [
    {
     "data": {
      "text/plain": [
       "array([1, 2, 3, 4])"
      ]
     },
     "execution_count": 17,
     "metadata": {},
     "output_type": "execute_result"
    }
   ],
   "source": [
    "c"
   ]
  },
  {
   "cell_type": "code",
   "execution_count": 18,
   "id": "aa1389c5-0f45-4ef1-bd82-bf913aaed2fc",
   "metadata": {},
   "outputs": [
    {
     "data": {
      "text/plain": [
       "array([1, 2, 3, 4])"
      ]
     },
     "execution_count": 18,
     "metadata": {},
     "output_type": "execute_result"
    }
   ],
   "source": [
    "a"
   ]
  },
  {
   "cell_type": "code",
   "execution_count": 19,
   "id": "d4c31938-a774-481a-b274-57753a426abe",
   "metadata": {},
   "outputs": [
    {
     "data": {
      "text/plain": [
       "1"
      ]
     },
     "execution_count": 19,
     "metadata": {},
     "output_type": "execute_result"
    }
   ],
   "source": [
    "c[0]"
   ]
  },
  {
   "cell_type": "code",
   "execution_count": 20,
   "id": "3076993f-fd60-4611-b5b3-c60929f47444",
   "metadata": {},
   "outputs": [],
   "source": [
    "c[0] = 100"
   ]
  },
  {
   "cell_type": "code",
   "execution_count": 21,
   "id": "b8f8f726-7a34-4beb-8d7a-6204514607c7",
   "metadata": {},
   "outputs": [
    {
     "data": {
      "text/plain": [
       "array([100,   2,   3,   4])"
      ]
     },
     "execution_count": 21,
     "metadata": {},
     "output_type": "execute_result"
    }
   ],
   "source": [
    "c"
   ]
  },
  {
   "cell_type": "code",
   "execution_count": 22,
   "id": "639e3d24-1339-40ea-b6f1-a9032f7477af",
   "metadata": {},
   "outputs": [
    {
     "data": {
      "text/plain": [
       "array([100,   2,   3,   4])"
      ]
     },
     "execution_count": 22,
     "metadata": {},
     "output_type": "execute_result"
    }
   ],
   "source": [
    "a"
   ]
  },
  {
   "cell_type": "code",
   "execution_count": 24,
   "id": "806ea803-5352-4e0f-bfee-533854a9db7b",
   "metadata": {},
   "outputs": [],
   "source": [
    "d= np.copy(a)"
   ]
  },
  {
   "cell_type": "code",
   "execution_count": 25,
   "id": "fedff1e7-cec9-46e8-b859-46fadd915d6a",
   "metadata": {},
   "outputs": [
    {
     "data": {
      "text/plain": [
       "array([100,   2,   3,   4])"
      ]
     },
     "execution_count": 25,
     "metadata": {},
     "output_type": "execute_result"
    }
   ],
   "source": [
    "d"
   ]
  },
  {
   "cell_type": "code",
   "execution_count": 29,
   "id": "e484a038-8ef7-4c32-9e77-39371b1df44a",
   "metadata": {},
   "outputs": [],
   "source": [
    "a[1]= 300"
   ]
  },
  {
   "cell_type": "code",
   "execution_count": 30,
   "id": "f8f51057-3445-45be-8065-2519b55062c7",
   "metadata": {},
   "outputs": [
    {
     "data": {
      "text/plain": [
       "array([100, 300,  30,   4])"
      ]
     },
     "execution_count": 30,
     "metadata": {},
     "output_type": "execute_result"
    }
   ],
   "source": [
    "a"
   ]
  },
  {
   "cell_type": "code",
   "execution_count": 31,
   "id": "ab6605f2-49ca-4142-a5ac-f0c5e6ce0a46",
   "metadata": {},
   "outputs": [
    {
     "data": {
      "text/plain": [
       "array([100,   2,   3,   4])"
      ]
     },
     "execution_count": 31,
     "metadata": {},
     "output_type": "execute_result"
    }
   ],
   "source": [
    "d"
   ]
  },
  {
   "cell_type": "code",
   "execution_count": 32,
   "id": "7a1b212a-4670-447a-8bd1-18b5b28900d1",
   "metadata": {},
   "outputs": [
    {
     "data": {
      "text/plain": [
       "array([[ True, False, False],\n",
       "       [False,  True, False],\n",
       "       [False, False,  True]])"
      ]
     },
     "execution_count": 32,
     "metadata": {},
     "output_type": "execute_result"
    }
   ],
   "source": [
    "np.fromfunction(lambda i, j:i==j,(3,3))"
   ]
  },
  {
   "cell_type": "code",
   "execution_count": 33,
   "id": "42f31024-3cc5-4369-bbe0-c58850dd7a9d",
   "metadata": {},
   "outputs": [
    {
     "data": {
      "text/plain": [
       "array([[0., 0., 0.],\n",
       "       [0., 1., 2.],\n",
       "       [0., 2., 4.]])"
      ]
     },
     "execution_count": 33,
     "metadata": {},
     "output_type": "execute_result"
    }
   ],
   "source": [
    "np.fromfunction(lambda i, j:i*j,(3,3))"
   ]
  },
  {
   "cell_type": "code",
   "execution_count": 36,
   "id": "dd35ded0-7d68-4511-8f0f-dedaad519108",
   "metadata": {},
   "outputs": [],
   "source": [
    "iterable= (i*i for i in range(5))"
   ]
  },
  {
   "cell_type": "code",
   "execution_count": 37,
   "id": "cdc3aabc-31e4-4448-a81f-77949c5c84fa",
   "metadata": {},
   "outputs": [
    {
     "data": {
      "text/plain": [
       "<generator object <genexpr> at 0x7f6f8c0e7680>"
      ]
     },
     "execution_count": 37,
     "metadata": {},
     "output_type": "execute_result"
    }
   ],
   "source": [
    "iterable"
   ]
  },
  {
   "cell_type": "code",
   "execution_count": 39,
   "id": "bd228a67-6165-4630-a5b3-b59c0e3062fb",
   "metadata": {},
   "outputs": [
    {
     "data": {
      "text/plain": [
       "array([ 0.,  1.,  4.,  9., 16.])"
      ]
     },
     "execution_count": 39,
     "metadata": {},
     "output_type": "execute_result"
    }
   ],
   "source": [
    "np.fromiter(iterable,float)"
   ]
  },
  {
   "cell_type": "code",
   "execution_count": 46,
   "id": "f96957c2-1025-49bb-bf21-3330ec6ec003",
   "metadata": {},
   "outputs": [
    {
     "name": "stderr",
     "output_type": "stream",
     "text": [
      "/tmp/ipykernel_77/2493730236.py:1: DeprecationWarning: The binary mode of fromstring is deprecated, as it behaves surprisingly on unicode inputs. Use frombuffer instead\n",
      "  np.fromstring('600  800', sep='')\n"
     ]
    },
    {
     "data": {
      "text/plain": [
       "array([1.40072092e-76])"
      ]
     },
     "execution_count": 46,
     "metadata": {},
     "output_type": "execute_result"
    }
   ],
   "source": [
    "np.fromstring('600  800', sep='')"
   ]
  },
  {
   "cell_type": "code",
   "execution_count": 49,
   "id": "f0825555-3519-44bf-8a2e-4a2353a2c136",
   "metadata": {},
   "outputs": [
    {
     "data": {
      "text/plain": [
       "array([4., 5.])"
      ]
     },
     "execution_count": 49,
     "metadata": {},
     "output_type": "execute_result"
    }
   ],
   "source": [
    "np.fromstring('4,5' , sep=',')"
   ]
  },
  {
   "cell_type": "code",
   "execution_count": 51,
   "id": "f72e721b-5787-41e3-b859-960625cb36f9",
   "metadata": {},
   "outputs": [],
   "source": [
    "#datatype in numpy"
   ]
  },
  {
   "cell_type": "code",
   "execution_count": 53,
   "id": "6350eb5a-10fa-4a7e-9a95-a1b4b6bfa213",
   "metadata": {},
   "outputs": [],
   "source": [
    "e= [11,22,33,44,55]"
   ]
  },
  {
   "cell_type": "code",
   "execution_count": 55,
   "id": "0bd1a870-54b0-492a-a409-829f1071faee",
   "metadata": {},
   "outputs": [],
   "source": [
    "ar= np.array(e)"
   ]
  },
  {
   "cell_type": "code",
   "execution_count": 57,
   "id": "dc246fd3-6f8f-4594-931d-622ca1a168a0",
   "metadata": {},
   "outputs": [
    {
     "data": {
      "text/plain": [
       "1"
      ]
     },
     "execution_count": 57,
     "metadata": {},
     "output_type": "execute_result"
    }
   ],
   "source": [
    "#to check dia of e array\n",
    "ar.ndim"
   ]
  },
  {
   "cell_type": "code",
   "execution_count": 61,
   "id": "5a700067-34db-491f-909f-9e02e7294fd5",
   "metadata": {},
   "outputs": [],
   "source": [
    "ar2= np.array([[1,2,3,4],[5,6,7,8,]])"
   ]
  },
  {
   "cell_type": "code",
   "execution_count": 63,
   "id": "3bf8a123-cd63-433f-b550-25f9b632732d",
   "metadata": {},
   "outputs": [
    {
     "data": {
      "text/plain": [
       "2"
      ]
     },
     "execution_count": 63,
     "metadata": {},
     "output_type": "execute_result"
    }
   ],
   "source": [
    "ar2.ndim"
   ]
  },
  {
   "cell_type": "code",
   "execution_count": 64,
   "id": "413f2e27-090b-4cca-8c9a-219d1fcc6c38",
   "metadata": {},
   "outputs": [
    {
     "data": {
      "text/plain": [
       "5"
      ]
     },
     "execution_count": 64,
     "metadata": {},
     "output_type": "execute_result"
    }
   ],
   "source": [
    "ar.size"
   ]
  },
  {
   "cell_type": "code",
   "execution_count": 65,
   "id": "663e0f57-a244-4755-8581-4be69bb49bca",
   "metadata": {},
   "outputs": [
    {
     "data": {
      "text/plain": [
       "8"
      ]
     },
     "execution_count": 65,
     "metadata": {},
     "output_type": "execute_result"
    }
   ],
   "source": [
    "ar2.size"
   ]
  },
  {
   "cell_type": "code",
   "execution_count": 66,
   "id": "e86dc372-d65d-4617-b808-2094363fcfa3",
   "metadata": {},
   "outputs": [
    {
     "data": {
      "text/plain": [
       "(5,)"
      ]
     },
     "execution_count": 66,
     "metadata": {},
     "output_type": "execute_result"
    }
   ],
   "source": [
    "ar.shape"
   ]
  },
  {
   "cell_type": "code",
   "execution_count": 67,
   "id": "55bab521-053b-451d-bbd1-ecfd0a7b2f64",
   "metadata": {},
   "outputs": [
    {
     "data": {
      "text/plain": [
       "(2, 4)"
      ]
     },
     "execution_count": 67,
     "metadata": {},
     "output_type": "execute_result"
    }
   ],
   "source": [
    "ar2.shape"
   ]
  },
  {
   "cell_type": "code",
   "execution_count": 71,
   "id": "46b06bf8-0b38-480c-a552-7a169a6fa347",
   "metadata": {},
   "outputs": [
    {
     "data": {
      "text/plain": [
       "dtype('int64')"
      ]
     },
     "execution_count": 71,
     "metadata": {},
     "output_type": "execute_result"
    }
   ],
   "source": [
    "ar.dtype"
   ]
  },
  {
   "cell_type": "code",
   "execution_count": 72,
   "id": "2744f685-5c1b-4707-bd60-a128a25c79ff",
   "metadata": {},
   "outputs": [
    {
     "data": {
      "text/plain": [
       "dtype('int64')"
      ]
     },
     "execution_count": 72,
     "metadata": {},
     "output_type": "execute_result"
    }
   ],
   "source": [
    "ar2.dtype"
   ]
  },
  {
   "cell_type": "code",
   "execution_count": 76,
   "id": "fb276978-f7c2-428d-83ad-e71c09c738d7",
   "metadata": {},
   "outputs": [],
   "source": [
    "#ek ka date type floating pt hai to uske chalte sare ka  kar diya\n",
    "ar22= np.array([[1.45,4,76],[23,45,66]])"
   ]
  },
  {
   "cell_type": "code",
   "execution_count": 75,
   "id": "0c6460ab-66c4-48dc-8b30-cb92cef0bc4c",
   "metadata": {},
   "outputs": [
    {
     "data": {
      "text/plain": [
       "array([[ 1.45,  4.  , 76.  ],\n",
       "       [23.  , 45.  , 66.  ]])"
      ]
     },
     "execution_count": 75,
     "metadata": {},
     "output_type": "execute_result"
    }
   ],
   "source": [
    "ar22"
   ]
  },
  {
   "cell_type": "code",
   "execution_count": 77,
   "id": "d36d5513-1321-49a9-a00f-a069b6179a26",
   "metadata": {},
   "outputs": [
    {
     "data": {
      "text/plain": [
       "dtype('float64')"
      ]
     },
     "execution_count": 77,
     "metadata": {},
     "output_type": "execute_result"
    }
   ],
   "source": [
    "ar22.dtype"
   ]
  },
  {
   "cell_type": "code",
   "execution_count": 78,
   "id": "8fb8c861-58d6-4079-9631-c08b11d9f17c",
   "metadata": {},
   "outputs": [
    {
     "data": {
      "text/plain": [
       "range(0, 5)"
      ]
     },
     "execution_count": 78,
     "metadata": {},
     "output_type": "execute_result"
    }
   ],
   "source": [
    "range(5)"
   ]
  },
  {
   "cell_type": "code",
   "execution_count": 80,
   "id": "7525328a-e1b3-46eb-ac65-a1304c16a020",
   "metadata": {},
   "outputs": [
    {
     "data": {
      "text/plain": [
       "[0, 1, 2, 3, 4]"
      ]
     },
     "execution_count": 80,
     "metadata": {},
     "output_type": "execute_result"
    }
   ],
   "source": [
    "# if ask toproduce flt pt in range so nahidega coz range only give int\n",
    "#jump size vo dena hai fractionalnum to vo bhi nahi de sakte\n",
    "list(range(5))"
   ]
  },
  {
   "cell_type": "code",
   "execution_count": 81,
   "id": "ddea8b84-9766-4987-956a-39e0fe6aa7c9",
   "metadata": {},
   "outputs": [
    {
     "ename": "TypeError",
     "evalue": "'float' object cannot be interpreted as an integer",
     "output_type": "error",
     "traceback": [
      "\u001b[0;31m---------------------------------------------------------------------------\u001b[0m",
      "\u001b[0;31mTypeError\u001b[0m                                 Traceback (most recent call last)",
      "Cell \u001b[0;32mIn[81], line 1\u001b[0m\n\u001b[0;32m----> 1\u001b[0m \u001b[38;5;28mlist\u001b[39m(\u001b[38;5;28;43mrange\u001b[39;49m\u001b[43m(\u001b[49m\u001b[38;5;241;43m0.1\u001b[39;49m\u001b[43m,\u001b[49m\u001b[38;5;241;43m5\u001b[39;49m\u001b[43m)\u001b[49m)\n",
      "\u001b[0;31mTypeError\u001b[0m: 'float' object cannot be interpreted as an integer"
     ]
    }
   ],
   "source": [
    "list(range(0.1,5))"
   ]
  },
  {
   "cell_type": "code",
   "execution_count": 83,
   "id": "9ee543da-609d-4bb7-8a53-68e4c979813b",
   "metadata": {},
   "outputs": [],
   "source": [
    "#so numpy ke andar already provision hai jaha par aap floating as starting pt,end pt or even as a jump size"
   ]
  },
  {
   "cell_type": "code",
   "execution_count": 84,
   "id": "f7922174-6fa1-4c5c-909d-71cd886a0966",
   "metadata": {},
   "outputs": [
    {
     "data": {
      "text/plain": [
       "array([1.1, 2.1, 3.1, 4.1])"
      ]
     },
     "execution_count": 84,
     "metadata": {},
     "output_type": "execute_result"
    }
   ],
   "source": [
    "np.arange(1.1,4.4)"
   ]
  },
  {
   "cell_type": "code",
   "execution_count": 79,
   "id": "7cf2d885-ca96-42d4-9bd4-12d17478e272",
   "metadata": {},
   "outputs": [
    {
     "data": {
      "text/plain": [
       "array([1.1, 1.4, 1.7, 2. , 2.3, 2.6, 2.9, 3.2, 3.5, 3.8, 4.1, 4.4])"
      ]
     },
     "execution_count": 79,
     "metadata": {},
     "output_type": "execute_result"
    }
   ],
   "source": [
    "#gave jum as 3\n",
    "np.arange(1.1,4.4,.3)"
   ]
  },
  {
   "cell_type": "code",
   "execution_count": 87,
   "id": "53243778-80e7-4db7-abee-3573b3b00d2e",
   "metadata": {},
   "outputs": [
    {
     "data": {
      "text/plain": [
       "[1.1,\n",
       " 1.4000000000000001,\n",
       " 1.7000000000000002,\n",
       " 2.0,\n",
       " 2.3000000000000003,\n",
       " 2.6000000000000005,\n",
       " 2.9000000000000004,\n",
       " 3.2000000000000006,\n",
       " 3.5000000000000004,\n",
       " 3.8000000000000003,\n",
       " 4.1000000000000005,\n",
       " 4.4]"
      ]
     },
     "execution_count": 87,
     "metadata": {},
     "output_type": "execute_result"
    }
   ],
   "source": [
    "#upar valadata jo produce kiya hai use list me convert karna hai\n",
    "list(np.arange(1.1,4.4,.3))"
   ]
  },
  {
   "cell_type": "code",
   "execution_count": 90,
   "id": "65a77fb3-0ec7-49e8-9b75-a4121db1efba",
   "metadata": {},
   "outputs": [
    {
     "data": {
      "text/plain": [
       "array([1.        , 1.44444444, 1.88888889, 2.33333333, 2.77777778,\n",
       "       3.22222222, 3.66666667, 4.11111111, 4.55555556, 5.        ])"
      ]
     },
     "execution_count": 90,
     "metadata": {},
     "output_type": "execute_result"
    }
   ],
   "source": [
    "#produce 10 data in between 1-5 scale\n",
    "#1-5 le liya ek line us line ko divide kiya 10 equal s[pace me\n",
    "np.linspace(1,5,10)"
   ]
  },
  {
   "cell_type": "code",
   "execution_count": 94,
   "id": "d58f29cd-6277-43a0-8b2f-fe644b58481a",
   "metadata": {},
   "outputs": [
    {
     "data": {
      "text/plain": [
       "array([0., 0., 0., 0., 0.])"
      ]
     },
     "execution_count": 94,
     "metadata": {},
     "output_type": "execute_result"
    }
   ],
   "source": [
    "#5 data leke array produce karo\n",
    "np.zeros(5)"
   ]
  },
  {
   "cell_type": "code",
   "execution_count": 93,
   "id": "71f2d3b3-ea8b-431b-bb13-d04a29282291",
   "metadata": {},
   "outputs": [
    {
     "data": {
      "text/plain": [
       "array([[0., 0., 0., 0., 0.],\n",
       "       [0., 0., 0., 0., 0.],\n",
       "       [0., 0., 0., 0., 0.]])"
      ]
     },
     "execution_count": 93,
     "metadata": {},
     "output_type": "execute_result"
    }
   ],
   "source": [
    "#it is 2D coz 3 row 5columns\n",
    "np.zeros((3,5))"
   ]
  },
  {
   "cell_type": "code",
   "execution_count": 105,
   "id": "18c4f04b-dcea-40ef-863b-7533f5dbfe35",
   "metadata": {},
   "outputs": [
    {
     "data": {
      "text/plain": [
       "array([[[0., 0.],\n",
       "        [0., 0.],\n",
       "        [0., 0.],\n",
       "        [0., 0.],\n",
       "        [0., 0.]],\n",
       "\n",
       "       [[0., 0.],\n",
       "        [0., 0.],\n",
       "        [0., 0.],\n",
       "        [0., 0.],\n",
       "        [0., 0.]],\n",
       "\n",
       "       [[0., 0.],\n",
       "        [0., 0.],\n",
       "        [0., 0.],\n",
       "        [0., 0.],\n",
       "        [0., 0.]]])"
      ]
     },
     "execution_count": 105,
     "metadata": {},
     "output_type": "execute_result"
    }
   ],
   "source": [
    "#3D\n",
    "#3 MATRIX  5ROW  2 COLUMNS\n",
    "#READ AS :- we have 5 cross 2 ,3 such kind of arrays\n",
    "np.zeros((3,5,2))"
   ]
  },
  {
   "cell_type": "code",
   "execution_count": 109,
   "id": "fc211dd6-2fa7-4ceb-97ec-da019a8000d9",
   "metadata": {},
   "outputs": [],
   "source": [
    "#4D #READ AS we have 2 cross 4 5 such matrix is tarah se 3 hai\n",
    "#2 row 4 columns aise 5 hai and 5 jaise set 3 hai\n",
    "#4d but cannot visualize on graph\n",
    "ar4= np.zeros((3,5,2,4))"
   ]
  },
  {
   "cell_type": "code",
   "execution_count": 107,
   "id": "4e4eaf30-1479-45b0-8e40-f527f45ad151",
   "metadata": {},
   "outputs": [
    {
     "data": {
      "text/plain": [
       "4"
      ]
     },
     "execution_count": 107,
     "metadata": {},
     "output_type": "execute_result"
    }
   ],
   "source": [
    "ar4.ndim"
   ]
  },
  {
   "cell_type": "code",
   "execution_count": 108,
   "id": "3aa85f48-a886-4899-9c75-4e368d70b0f5",
   "metadata": {},
   "outputs": [
    {
     "data": {
      "text/plain": [
       "array([[[[0., 0., 0., 0.],\n",
       "         [0., 0., 0., 0.]],\n",
       "\n",
       "        [[0., 0., 0., 0.],\n",
       "         [0., 0., 0., 0.]],\n",
       "\n",
       "        [[0., 0., 0., 0.],\n",
       "         [0., 0., 0., 0.]],\n",
       "\n",
       "        [[0., 0., 0., 0.],\n",
       "         [0., 0., 0., 0.]],\n",
       "\n",
       "        [[0., 0., 0., 0.],\n",
       "         [0., 0., 0., 0.]]],\n",
       "\n",
       "\n",
       "       [[[0., 0., 0., 0.],\n",
       "         [0., 0., 0., 0.]],\n",
       "\n",
       "        [[0., 0., 0., 0.],\n",
       "         [0., 0., 0., 0.]],\n",
       "\n",
       "        [[0., 0., 0., 0.],\n",
       "         [0., 0., 0., 0.]],\n",
       "\n",
       "        [[0., 0., 0., 0.],\n",
       "         [0., 0., 0., 0.]],\n",
       "\n",
       "        [[0., 0., 0., 0.],\n",
       "         [0., 0., 0., 0.]]],\n",
       "\n",
       "\n",
       "       [[[0., 0., 0., 0.],\n",
       "         [0., 0., 0., 0.]],\n",
       "\n",
       "        [[0., 0., 0., 0.],\n",
       "         [0., 0., 0., 0.]],\n",
       "\n",
       "        [[0., 0., 0., 0.],\n",
       "         [0., 0., 0., 0.]],\n",
       "\n",
       "        [[0., 0., 0., 0.],\n",
       "         [0., 0., 0., 0.]],\n",
       "\n",
       "        [[0., 0., 0., 0.],\n",
       "         [0., 0., 0., 0.]]]])"
      ]
     },
     "execution_count": 108,
     "metadata": {},
     "output_type": "execute_result"
    }
   ],
   "source": [
    "ar4"
   ]
  },
  {
   "cell_type": "code",
   "execution_count": 2,
   "id": "1ffe3749-a018-4e82-833f-eafb6b38572a",
   "metadata": {},
   "outputs": [
    {
     "data": {
      "text/plain": [
       "array([1.])"
      ]
     },
     "execution_count": 2,
     "metadata": {},
     "output_type": "execute_result"
    }
   ],
   "source": [
    "np.ones(1)"
   ]
  },
  {
   "cell_type": "code",
   "execution_count": 3,
   "id": "5a79aa93-f671-498b-aad2-de05bc38617d",
   "metadata": {},
   "outputs": [
    {
     "data": {
      "text/plain": [
       "array([1., 1., 1., 1.])"
      ]
     },
     "execution_count": 3,
     "metadata": {},
     "output_type": "execute_result"
    }
   ],
   "source": [
    "np.ones(4)"
   ]
  },
  {
   "cell_type": "code",
   "execution_count": 6,
   "id": "9bd8cd02-4fcb-4a1e-b8b2-836be0452d50",
   "metadata": {},
   "outputs": [
    {
     "data": {
      "text/plain": [
       "array([[1., 1., 1.],\n",
       "       [1., 1., 1.]])"
      ]
     },
     "execution_count": 6,
     "metadata": {},
     "output_type": "execute_result"
    }
   ],
   "source": [
    "#2 ROW 3 COLUMNS\n",
    "np.ones((2,3))"
   ]
  },
  {
   "cell_type": "code",
   "execution_count": 11,
   "id": "3c894e5d-bc4e-400a-8dcb-7a3b1bb35639",
   "metadata": {},
   "outputs": [],
   "source": [
    "#2 MATRI 3 ROW  ,2COLUMS\n",
    "ON= np.ones((2,3,2))"
   ]
  },
  {
   "cell_type": "code",
   "execution_count": 12,
   "id": "17a1841d-2ecd-4293-bcab-641ab6cbf062",
   "metadata": {},
   "outputs": [
    {
     "data": {
      "text/plain": [
       "array([[[1., 1.],\n",
       "        [1., 1.],\n",
       "        [1., 1.]],\n",
       "\n",
       "       [[1., 1.],\n",
       "        [1., 1.],\n",
       "        [1., 1.]]])"
      ]
     },
     "execution_count": 12,
     "metadata": {},
     "output_type": "execute_result"
    }
   ],
   "source": [
    "ON"
   ]
  },
  {
   "cell_type": "code",
   "execution_count": 14,
   "id": "2519b327-11d0-49d6-92f7-6c5b0cebe770",
   "metadata": {},
   "outputs": [
    {
     "data": {
      "text/plain": [
       "array([[[6., 6.],\n",
       "        [6., 6.],\n",
       "        [6., 6.]],\n",
       "\n",
       "       [[6., 6.],\n",
       "        [6., 6.],\n",
       "        [6., 6.]]])"
      ]
     },
     "execution_count": 14,
     "metadata": {},
     "output_type": "execute_result"
    }
   ],
   "source": [
    "# ADD 5 IN EVERY  VALUE\n",
    "ON+5"
   ]
  },
  {
   "cell_type": "code",
   "execution_count": 15,
   "id": "cf3de3d9-8957-437f-aa85-c46c197782ca",
   "metadata": {},
   "outputs": [
    {
     "data": {
      "text/plain": [
       "array([[[5., 5.],\n",
       "        [5., 5.],\n",
       "        [5., 5.]],\n",
       "\n",
       "       [[5., 5.],\n",
       "        [5., 5.],\n",
       "        [5., 5.]]])"
      ]
     },
     "execution_count": 15,
     "metadata": {},
     "output_type": "execute_result"
    }
   ],
   "source": [
    "ON*5"
   ]
  },
  {
   "cell_type": "code",
   "execution_count": 6,
   "id": "df3ed586-f79a-480f-81ce-d56e51719a8e",
   "metadata": {},
   "outputs": [
    {
     "data": {
      "text/plain": [
       "array([[4.68529483e-310, 5.98149210e-154, 3.03338118e-067,\n",
       "        1.05248921e-153, 4.56335221e-072],\n",
       "       [6.01347002e-154, 1.05191681e-153, 8.41789903e-053,\n",
       "        1.95360725e-109, 5.28595595e-085],\n",
       "       [6.45757112e+270, 1.50761622e+161, 5.50422964e+257,\n",
       "        4.83245960e+276, 1.05132385e-153]])"
      ]
     },
     "execution_count": 6,
     "metadata": {},
     "output_type": "execute_result"
    }
   ],
   "source": [
    "#creat empty array . can se value but it is negligible\n",
    "np.empty((3,5))"
   ]
  },
  {
   "cell_type": "code",
   "execution_count": 3,
   "id": "9fd5b528-a09a-481b-a726-8ffc65748166",
   "metadata": {},
   "outputs": [
    {
     "data": {
      "text/plain": [
       "array([[4.68529438e-310, 0.00000000e+000, 1.01855798e-312,\n",
       "        9.54898106e-313],\n",
       "       [1.14587773e-312, 1.03977794e-312, 1.23075756e-312,\n",
       "        1.06099790e-312],\n",
       "       [1.06099790e-312, 9.76118064e-313, 1.16709769e-312,\n",
       "        1.90979621e-312]])"
      ]
     },
     "execution_count": 3,
     "metadata": {},
     "output_type": "execute_result"
    }
   ],
   "source": [
    "np.empty((3,4))"
   ]
  },
  {
   "cell_type": "code",
   "execution_count": 5,
   "id": "d6469e32-a6c0-4aa3-b743-69301ca60a5c",
   "metadata": {},
   "outputs": [
    {
     "data": {
      "text/plain": [
       "array([[4.68529483e-310, 0.00000000e+000, 0.00000000e+000,\n",
       "        0.00000000e+000, 5.98149210e-154, 3.03338118e-067],\n",
       "       [1.05248921e-153, 4.56335221e-072, 6.01347002e-154,\n",
       "        1.05191681e-153, 8.41789903e-053, 1.95360725e-109],\n",
       "       [5.28595595e-085, 6.45757112e+270, 1.50761622e+161,\n",
       "        5.50422964e+257, 4.83245960e+276, 1.05132385e-153]])"
      ]
     },
     "execution_count": 5,
     "metadata": {},
     "output_type": "execute_result"
    }
   ],
   "source": [
    "np.empty((3,6))"
   ]
  },
  {
   "cell_type": "code",
   "execution_count": 11,
   "id": "abe5f7c2-7db6-4be1-b185-f63cc3722be9",
   "metadata": {},
   "outputs": [
    {
     "data": {
      "text/plain": [
       "array([[1., 0., 0., 0.],\n",
       "       [0., 1., 0., 0.],\n",
       "       [0., 0., 1., 0.],\n",
       "       [0., 0., 0., 1.]])"
      ]
     },
     "execution_count": 11,
     "metadata": {},
     "output_type": "execute_result"
    }
   ],
   "source": [
    "#square matrix,same diamension, determinant 1 hota hai, and diagonal me hamesha 11111 hota hai\n",
    "np.eye(4)"
   ]
  },
  {
   "cell_type": "code",
   "execution_count": 9,
   "id": "c8f048fa-33bd-4972-beab-5c8c5bd8599c",
   "metadata": {},
   "outputs": [
    {
     "data": {
      "text/plain": [
       "array([[1., 0., 0., 0., 0., 0.],\n",
       "       [0., 1., 0., 0., 0., 0.],\n",
       "       [0., 0., 1., 0., 0., 0.]])"
      ]
     },
     "execution_count": 9,
     "metadata": {},
     "output_type": "execute_result"
    }
   ],
   "source": [
    "np.eye(3,6)"
   ]
  },
  {
   "cell_type": "code",
   "execution_count": 15,
   "id": "8b7e5298-9555-4bb1-a3e2-dee0d09864ed",
   "metadata": {},
   "outputs": [
    {
     "data": {
      "text/plain": [
       "array([2.        , 2.10526316, 2.21052632, 2.31578947, 2.42105263,\n",
       "       2.52631579, 2.63157895, 2.73684211, 2.84210526, 2.94736842,\n",
       "       3.05263158, 3.15789474, 3.26315789, 3.36842105, 3.47368421,\n",
       "       3.57894737, 3.68421053, 3.78947368, 3.89473684, 4.        ])"
      ]
     },
     "execution_count": 15,
     "metadata": {},
     "output_type": "execute_result"
    }
   ],
   "source": [
    "#linespace\n",
    "# 20 data chahiye between 2-4 in equal interval\n",
    "#2-4 e line ko lega and 0 times / karega\n",
    "np.linspace(2,4 , 20)"
   ]
  },
  {
   "cell_type": "code",
   "execution_count": 19,
   "id": "29cf6421-e0d2-4f7d-be67-d61f9553723d",
   "metadata": {},
   "outputs": [
    {
     "data": {
      "text/plain": [
       "array([   100.        ,    215.443469  ,    464.15888336,   1000.        ,\n",
       "         2154.43469003,   4641.58883361,  10000.        ,  21544.34690032,\n",
       "        46415.88833613, 100000.        ])"
      ]
     },
     "execution_count": 19,
     "metadata": {},
     "output_type": "execute_result"
    }
   ],
   "source": [
    "#logspace\n",
    "#start 2 se end5, kitna data chahiye so 10 data and subka logarithm nikal ke de dega between 2-5 line\n",
    "#same as linespace only diff is log nikalke de raha hai \n",
    "np.logspace(2,5 , 10)"
   ]
  },
  {
   "cell_type": "code",
   "execution_count": 21,
   "id": "a269ec04-94c3-496f-a56e-5a153b3a08e1",
   "metadata": {},
   "outputs": [
    {
     "data": {
      "text/plain": [
       "array([ 4.        ,  5.0396842 ,  6.34960421,  8.        , 10.0793684 ,\n",
       "       12.69920842, 16.        , 20.1587368 , 25.39841683, 32.        ])"
      ]
     },
     "execution_count": 21,
     "metadata": {},
     "output_type": "execute_result"
    }
   ],
   "source": [
    "#base is 0 and want to change base\n",
    "np.logspace(2,5 , 10, base =2)"
   ]
  },
  {
   "cell_type": "code",
   "execution_count": 22,
   "id": "508dda22-857e-4d23-bcae-8c8daa2f7358",
   "metadata": {},
   "outputs": [],
   "source": [
    "#RANDOM FUNCTION"
   ]
  },
  {
   "cell_type": "code",
   "execution_count": 32,
   "id": "6f9ac4a2-3678-43ed-b3bd-051e4ade808a",
   "metadata": {},
   "outputs": [
    {
     "data": {
      "text/plain": [
       "\"diff between randn and rand:-random value in a given shape: return a sample form the 'standard normal ' distributionm respectivey.RAND only produce array. 'randn' aisa data generate karega jaha par data ka mean = 0 and SD =1 IS CALLED AS STANDARD NORMAL DISTRIBUTION.\""
      ]
     },
     "execution_count": 32,
     "metadata": {},
     "output_type": "execute_result"
    }
   ],
   "source": [
    "\"\"\"diff between randn and rand:-random value in a given shape: return a sample form the 'standard normal ' distributionm respectivey.RAND only produce array. 'randn' aisa data generate karega jaha par data ka mean = 0 and SD =1 IS CALLED AS STANDARD NORMAL DISTRIBUTION.\"\"\""
   ]
  },
  {
   "cell_type": "code",
   "execution_count": 25,
   "id": "268887a6-ca89-4e1b-a767-1d76ed394f80",
   "metadata": {},
   "outputs": [],
   "source": [
    "#generate random data 3ROW 4 COLUMN\n",
    "arr= np.random.randn(3,4)"
   ]
  },
  {
   "cell_type": "code",
   "execution_count": 26,
   "id": "e7bd6329-3868-4546-ba2a-a3231070fb52",
   "metadata": {},
   "outputs": [
    {
     "data": {
      "text/plain": [
       "array([[ 1.63369622, -1.01703323,  1.20337823,  0.54404613],\n",
       "       [ 0.94443061, -0.64326624, -0.35201509,  0.71672093],\n",
       "       [ 0.01449701,  0.02881531, -0.53347453, -1.35547244]])"
      ]
     },
     "execution_count": 26,
     "metadata": {},
     "output_type": "execute_result"
    }
   ],
   "source": [
    "    arr"
   ]
  },
  {
   "cell_type": "code",
   "execution_count": 27,
   "id": "6ca3f519-6eb5-4de6-b5db-891c7ea7880b",
   "metadata": {},
   "outputs": [],
   "source": [
    "import pandas as pd"
   ]
  },
  {
   "cell_type": "code",
   "execution_count": 28,
   "id": "b89e714b-857d-43f2-8c4c-ed01310b491b",
   "metadata": {},
   "outputs": [
    {
     "data": {
      "text/html": [
       "<div>\n",
       "<style scoped>\n",
       "    .dataframe tbody tr th:only-of-type {\n",
       "        vertical-align: middle;\n",
       "    }\n",
       "\n",
       "    .dataframe tbody tr th {\n",
       "        vertical-align: top;\n",
       "    }\n",
       "\n",
       "    .dataframe thead th {\n",
       "        text-align: right;\n",
       "    }\n",
       "</style>\n",
       "<table border=\"1\" class=\"dataframe\">\n",
       "  <thead>\n",
       "    <tr style=\"text-align: right;\">\n",
       "      <th></th>\n",
       "      <th>0</th>\n",
       "      <th>1</th>\n",
       "      <th>2</th>\n",
       "      <th>3</th>\n",
       "    </tr>\n",
       "  </thead>\n",
       "  <tbody>\n",
       "    <tr>\n",
       "      <th>0</th>\n",
       "      <td>1.633696</td>\n",
       "      <td>-1.017033</td>\n",
       "      <td>1.203378</td>\n",
       "      <td>0.544046</td>\n",
       "    </tr>\n",
       "    <tr>\n",
       "      <th>1</th>\n",
       "      <td>0.944431</td>\n",
       "      <td>-0.643266</td>\n",
       "      <td>-0.352015</td>\n",
       "      <td>0.716721</td>\n",
       "    </tr>\n",
       "    <tr>\n",
       "      <th>2</th>\n",
       "      <td>0.014497</td>\n",
       "      <td>0.028815</td>\n",
       "      <td>-0.533475</td>\n",
       "      <td>-1.355472</td>\n",
       "    </tr>\n",
       "  </tbody>\n",
       "</table>\n",
       "</div>"
      ],
      "text/plain": [
       "          0         1         2         3\n",
       "0  1.633696 -1.017033  1.203378  0.544046\n",
       "1  0.944431 -0.643266 -0.352015  0.716721\n",
       "2  0.014497  0.028815 -0.533475 -1.355472"
      ]
     },
     "execution_count": 28,
     "metadata": {},
     "output_type": "execute_result"
    }
   ],
   "source": [
    "pd.DataFrame(arr)"
   ]
  },
  {
   "cell_type": "code",
   "execution_count": 29,
   "id": "2372521c-e3aa-4777-8f6b-cdb8b734cc21",
   "metadata": {},
   "outputs": [
    {
     "data": {
      "text/plain": [
       "array([[0.60040559, 0.9782073 , 0.80607521, 0.39946161],\n",
       "       [0.60939996, 0.71316584, 0.27752801, 0.33826774],\n",
       "       [0.60198398, 0.59713385, 0.47539622, 0.14732293]])"
      ]
     },
     "execution_count": 29,
     "metadata": {},
     "output_type": "execute_result"
    }
   ],
   "source": [
    "np.random.rand(3,4)"
   ]
  },
  {
   "cell_type": "code",
   "execution_count": 36,
   "id": "e7cddb35-9689-4fa4-98a6-950e45bb04df",
   "metadata": {},
   "outputs": [
    {
     "data": {
      "text/plain": [
       "array([[50, 69, 33, 35],\n",
       "       [92, 53, 96, 14],\n",
       "       [44, 26, 86, 24]])"
      ]
     },
     "execution_count": 36,
     "metadata": {},
     "output_type": "execute_result"
    }
   ],
   "source": [
    "#randin= int hi produce karta hai. data nikalke do 1-110 ke bich me int do. data nikalke do 3cross 4 ka\n",
    "np.random.randint(1,110,(3,4))"
   ]
  },
  {
   "cell_type": "code",
   "execution_count": 37,
   "id": "dc14ec7d-31ab-408c-b36f-4fc96c011519",
   "metadata": {},
   "outputs": [
    {
     "data": {
      "text/plain": [
       "array([[ 23,  48,  70, ...,  27,  84,  54],\n",
       "       [ 83,  68,  88, ...,  25, 104,  47],\n",
       "       [ 19,  78,  78, ...,  89,  98,  87],\n",
       "       ...,\n",
       "       [100,  33,  76, ...,  86,  35, 107],\n",
       "       [ 22,  46,  42, ...,  55,  22,  56],\n",
       "       [ 94,  23,  24, ...,   5,  37,  49]])"
      ]
     },
     "execution_count": 37,
     "metadata": {},
     "output_type": "execute_result"
    }
   ],
   "source": [
    "#300 row 400 columns\n",
    "np.random.randint(1,110,(300,400))"
   ]
  },
  {
   "cell_type": "code",
   "execution_count": 39,
   "id": "b5722eb2-abb3-4b97-bd35-951f396eaa88",
   "metadata": {},
   "outputs": [
    {
     "data": {
      "text/html": [
       "<div>\n",
       "<style scoped>\n",
       "    .dataframe tbody tr th:only-of-type {\n",
       "        vertical-align: middle;\n",
       "    }\n",
       "\n",
       "    .dataframe tbody tr th {\n",
       "        vertical-align: top;\n",
       "    }\n",
       "\n",
       "    .dataframe thead th {\n",
       "        text-align: right;\n",
       "    }\n",
       "</style>\n",
       "<table border=\"1\" class=\"dataframe\">\n",
       "  <thead>\n",
       "    <tr style=\"text-align: right;\">\n",
       "      <th></th>\n",
       "      <th>0</th>\n",
       "      <th>1</th>\n",
       "      <th>2</th>\n",
       "      <th>3</th>\n",
       "      <th>4</th>\n",
       "      <th>5</th>\n",
       "      <th>6</th>\n",
       "      <th>7</th>\n",
       "      <th>8</th>\n",
       "      <th>9</th>\n",
       "      <th>...</th>\n",
       "      <th>390</th>\n",
       "      <th>391</th>\n",
       "      <th>392</th>\n",
       "      <th>393</th>\n",
       "      <th>394</th>\n",
       "      <th>395</th>\n",
       "      <th>396</th>\n",
       "      <th>397</th>\n",
       "      <th>398</th>\n",
       "      <th>399</th>\n",
       "    </tr>\n",
       "  </thead>\n",
       "  <tbody>\n",
       "    <tr>\n",
       "      <th>0</th>\n",
       "      <td>21</td>\n",
       "      <td>31</td>\n",
       "      <td>18</td>\n",
       "      <td>3</td>\n",
       "      <td>88</td>\n",
       "      <td>79</td>\n",
       "      <td>11</td>\n",
       "      <td>51</td>\n",
       "      <td>7</td>\n",
       "      <td>30</td>\n",
       "      <td>...</td>\n",
       "      <td>45</td>\n",
       "      <td>63</td>\n",
       "      <td>98</td>\n",
       "      <td>102</td>\n",
       "      <td>47</td>\n",
       "      <td>33</td>\n",
       "      <td>9</td>\n",
       "      <td>44</td>\n",
       "      <td>13</td>\n",
       "      <td>67</td>\n",
       "    </tr>\n",
       "    <tr>\n",
       "      <th>1</th>\n",
       "      <td>96</td>\n",
       "      <td>5</td>\n",
       "      <td>41</td>\n",
       "      <td>4</td>\n",
       "      <td>19</td>\n",
       "      <td>78</td>\n",
       "      <td>33</td>\n",
       "      <td>29</td>\n",
       "      <td>8</td>\n",
       "      <td>101</td>\n",
       "      <td>...</td>\n",
       "      <td>47</td>\n",
       "      <td>58</td>\n",
       "      <td>59</td>\n",
       "      <td>21</td>\n",
       "      <td>55</td>\n",
       "      <td>86</td>\n",
       "      <td>92</td>\n",
       "      <td>72</td>\n",
       "      <td>78</td>\n",
       "      <td>25</td>\n",
       "    </tr>\n",
       "    <tr>\n",
       "      <th>2</th>\n",
       "      <td>76</td>\n",
       "      <td>18</td>\n",
       "      <td>70</td>\n",
       "      <td>74</td>\n",
       "      <td>14</td>\n",
       "      <td>45</td>\n",
       "      <td>50</td>\n",
       "      <td>36</td>\n",
       "      <td>44</td>\n",
       "      <td>58</td>\n",
       "      <td>...</td>\n",
       "      <td>26</td>\n",
       "      <td>32</td>\n",
       "      <td>1</td>\n",
       "      <td>62</td>\n",
       "      <td>18</td>\n",
       "      <td>10</td>\n",
       "      <td>67</td>\n",
       "      <td>54</td>\n",
       "      <td>90</td>\n",
       "      <td>15</td>\n",
       "    </tr>\n",
       "    <tr>\n",
       "      <th>3</th>\n",
       "      <td>43</td>\n",
       "      <td>58</td>\n",
       "      <td>55</td>\n",
       "      <td>3</td>\n",
       "      <td>84</td>\n",
       "      <td>19</td>\n",
       "      <td>90</td>\n",
       "      <td>72</td>\n",
       "      <td>15</td>\n",
       "      <td>17</td>\n",
       "      <td>...</td>\n",
       "      <td>101</td>\n",
       "      <td>38</td>\n",
       "      <td>104</td>\n",
       "      <td>44</td>\n",
       "      <td>44</td>\n",
       "      <td>6</td>\n",
       "      <td>16</td>\n",
       "      <td>71</td>\n",
       "      <td>75</td>\n",
       "      <td>109</td>\n",
       "    </tr>\n",
       "    <tr>\n",
       "      <th>4</th>\n",
       "      <td>4</td>\n",
       "      <td>20</td>\n",
       "      <td>73</td>\n",
       "      <td>106</td>\n",
       "      <td>95</td>\n",
       "      <td>6</td>\n",
       "      <td>51</td>\n",
       "      <td>72</td>\n",
       "      <td>26</td>\n",
       "      <td>80</td>\n",
       "      <td>...</td>\n",
       "      <td>20</td>\n",
       "      <td>37</td>\n",
       "      <td>23</td>\n",
       "      <td>38</td>\n",
       "      <td>38</td>\n",
       "      <td>56</td>\n",
       "      <td>41</td>\n",
       "      <td>101</td>\n",
       "      <td>37</td>\n",
       "      <td>75</td>\n",
       "    </tr>\n",
       "    <tr>\n",
       "      <th>...</th>\n",
       "      <td>...</td>\n",
       "      <td>...</td>\n",
       "      <td>...</td>\n",
       "      <td>...</td>\n",
       "      <td>...</td>\n",
       "      <td>...</td>\n",
       "      <td>...</td>\n",
       "      <td>...</td>\n",
       "      <td>...</td>\n",
       "      <td>...</td>\n",
       "      <td>...</td>\n",
       "      <td>...</td>\n",
       "      <td>...</td>\n",
       "      <td>...</td>\n",
       "      <td>...</td>\n",
       "      <td>...</td>\n",
       "      <td>...</td>\n",
       "      <td>...</td>\n",
       "      <td>...</td>\n",
       "      <td>...</td>\n",
       "      <td>...</td>\n",
       "    </tr>\n",
       "    <tr>\n",
       "      <th>295</th>\n",
       "      <td>78</td>\n",
       "      <td>44</td>\n",
       "      <td>46</td>\n",
       "      <td>85</td>\n",
       "      <td>40</td>\n",
       "      <td>105</td>\n",
       "      <td>35</td>\n",
       "      <td>11</td>\n",
       "      <td>106</td>\n",
       "      <td>44</td>\n",
       "      <td>...</td>\n",
       "      <td>75</td>\n",
       "      <td>61</td>\n",
       "      <td>85</td>\n",
       "      <td>55</td>\n",
       "      <td>92</td>\n",
       "      <td>9</td>\n",
       "      <td>31</td>\n",
       "      <td>7</td>\n",
       "      <td>15</td>\n",
       "      <td>24</td>\n",
       "    </tr>\n",
       "    <tr>\n",
       "      <th>296</th>\n",
       "      <td>32</td>\n",
       "      <td>46</td>\n",
       "      <td>1</td>\n",
       "      <td>82</td>\n",
       "      <td>59</td>\n",
       "      <td>28</td>\n",
       "      <td>86</td>\n",
       "      <td>43</td>\n",
       "      <td>104</td>\n",
       "      <td>74</td>\n",
       "      <td>...</td>\n",
       "      <td>38</td>\n",
       "      <td>7</td>\n",
       "      <td>44</td>\n",
       "      <td>90</td>\n",
       "      <td>71</td>\n",
       "      <td>89</td>\n",
       "      <td>101</td>\n",
       "      <td>75</td>\n",
       "      <td>4</td>\n",
       "      <td>87</td>\n",
       "    </tr>\n",
       "    <tr>\n",
       "      <th>297</th>\n",
       "      <td>72</td>\n",
       "      <td>44</td>\n",
       "      <td>7</td>\n",
       "      <td>24</td>\n",
       "      <td>98</td>\n",
       "      <td>97</td>\n",
       "      <td>6</td>\n",
       "      <td>44</td>\n",
       "      <td>28</td>\n",
       "      <td>13</td>\n",
       "      <td>...</td>\n",
       "      <td>96</td>\n",
       "      <td>98</td>\n",
       "      <td>6</td>\n",
       "      <td>66</td>\n",
       "      <td>39</td>\n",
       "      <td>79</td>\n",
       "      <td>65</td>\n",
       "      <td>76</td>\n",
       "      <td>92</td>\n",
       "      <td>71</td>\n",
       "    </tr>\n",
       "    <tr>\n",
       "      <th>298</th>\n",
       "      <td>65</td>\n",
       "      <td>70</td>\n",
       "      <td>47</td>\n",
       "      <td>8</td>\n",
       "      <td>79</td>\n",
       "      <td>18</td>\n",
       "      <td>12</td>\n",
       "      <td>82</td>\n",
       "      <td>74</td>\n",
       "      <td>95</td>\n",
       "      <td>...</td>\n",
       "      <td>83</td>\n",
       "      <td>65</td>\n",
       "      <td>92</td>\n",
       "      <td>81</td>\n",
       "      <td>26</td>\n",
       "      <td>107</td>\n",
       "      <td>32</td>\n",
       "      <td>60</td>\n",
       "      <td>90</td>\n",
       "      <td>87</td>\n",
       "    </tr>\n",
       "    <tr>\n",
       "      <th>299</th>\n",
       "      <td>99</td>\n",
       "      <td>71</td>\n",
       "      <td>109</td>\n",
       "      <td>100</td>\n",
       "      <td>108</td>\n",
       "      <td>4</td>\n",
       "      <td>87</td>\n",
       "      <td>41</td>\n",
       "      <td>37</td>\n",
       "      <td>31</td>\n",
       "      <td>...</td>\n",
       "      <td>64</td>\n",
       "      <td>22</td>\n",
       "      <td>69</td>\n",
       "      <td>68</td>\n",
       "      <td>82</td>\n",
       "      <td>17</td>\n",
       "      <td>99</td>\n",
       "      <td>101</td>\n",
       "      <td>22</td>\n",
       "      <td>77</td>\n",
       "    </tr>\n",
       "  </tbody>\n",
       "</table>\n",
       "<p>300 rows × 400 columns</p>\n",
       "</div>"
      ],
      "text/plain": [
       "     0    1    2    3    4    5    6    7    8    9    ...  390  391  392  \\\n",
       "0     21   31   18    3   88   79   11   51    7   30  ...   45   63   98   \n",
       "1     96    5   41    4   19   78   33   29    8  101  ...   47   58   59   \n",
       "2     76   18   70   74   14   45   50   36   44   58  ...   26   32    1   \n",
       "3     43   58   55    3   84   19   90   72   15   17  ...  101   38  104   \n",
       "4      4   20   73  106   95    6   51   72   26   80  ...   20   37   23   \n",
       "..   ...  ...  ...  ...  ...  ...  ...  ...  ...  ...  ...  ...  ...  ...   \n",
       "295   78   44   46   85   40  105   35   11  106   44  ...   75   61   85   \n",
       "296   32   46    1   82   59   28   86   43  104   74  ...   38    7   44   \n",
       "297   72   44    7   24   98   97    6   44   28   13  ...   96   98    6   \n",
       "298   65   70   47    8   79   18   12   82   74   95  ...   83   65   92   \n",
       "299   99   71  109  100  108    4   87   41   37   31  ...   64   22   69   \n",
       "\n",
       "     393  394  395  396  397  398  399  \n",
       "0    102   47   33    9   44   13   67  \n",
       "1     21   55   86   92   72   78   25  \n",
       "2     62   18   10   67   54   90   15  \n",
       "3     44   44    6   16   71   75  109  \n",
       "4     38   38   56   41  101   37   75  \n",
       "..   ...  ...  ...  ...  ...  ...  ...  \n",
       "295   55   92    9   31    7   15   24  \n",
       "296   90   71   89  101   75    4   87  \n",
       "297   66   39   79   65   76   92   71  \n",
       "298   81   26  107   32   60   90   87  \n",
       "299   68   82   17   99  101   22   77  \n",
       "\n",
       "[300 rows x 400 columns]"
      ]
     },
     "execution_count": 39,
     "metadata": {},
     "output_type": "execute_result"
    }
   ],
   "source": [
    "#convert this into datarame\n",
    "pd.DataFrame(np.random.randint(1,110,(300,400)))"
   ]
  },
  {
   "cell_type": "code",
   "execution_count": 40,
   "id": "c4d99922-c65b-4587-818e-acf5d55416bb",
   "metadata": {},
   "outputs": [],
   "source": [
    "#can store this too\n",
    "pd.DataFrame(np.random.randint(1,110,(300,400))).to_csv(\"test.csv\")"
   ]
  },
  {
   "cell_type": "code",
   "execution_count": 41,
   "id": "e5853325-8499-4a06-a23c-35eedebee7fd",
   "metadata": {},
   "outputs": [],
   "source": [
    "arr = np.random.rand(3,4)"
   ]
  },
  {
   "cell_type": "code",
   "execution_count": 42,
   "id": "c290a4a6-3e2a-4acc-8b93-7e1aee8ad31b",
   "metadata": {},
   "outputs": [
    {
     "data": {
      "text/plain": [
       "array([[0.48639165, 0.38409108, 0.76979264, 0.59766479],\n",
       "       [0.94562373, 0.70073822, 0.87727591, 0.84661373],\n",
       "       [0.36843846, 0.18980989, 0.87428786, 0.58449461]])"
      ]
     },
     "execution_count": 42,
     "metadata": {},
     "output_type": "execute_result"
    }
   ],
   "source": [
    "arr"
   ]
  },
  {
   "cell_type": "code",
   "execution_count": 44,
   "id": "2aabae71-2622-4014-a3ec-023375cc48a9",
   "metadata": {},
   "outputs": [
    {
     "data": {
      "text/plain": [
       "array([[0.48639165, 0.38409108],\n",
       "       [0.76979264, 0.59766479],\n",
       "       [0.94562373, 0.70073822],\n",
       "       [0.87727591, 0.84661373],\n",
       "       [0.36843846, 0.18980989],\n",
       "       [0.87428786, 0.58449461]])"
      ]
     },
     "execution_count": 44,
     "metadata": {},
     "output_type": "execute_result"
    }
   ],
   "source": [
    "#total 12 data hai if want to change /convert into another shape\n",
    "#data hai 12 to jo bhi reshape ke andar doge vo  multiple of total data(12) hona chahiye\n",
    "arr.reshape(6,2)"
   ]
  },
  {
   "cell_type": "code",
   "execution_count": 45,
   "id": "54b869c4-92b1-465a-8694-247d3148b2bc",
   "metadata": {},
   "outputs": [
    {
     "ename": "ValueError",
     "evalue": "cannot reshape array of size 12 into shape (6,3)",
     "output_type": "error",
     "traceback": [
      "\u001b[0;31m---------------------------------------------------------------------------\u001b[0m",
      "\u001b[0;31mValueError\u001b[0m                                Traceback (most recent call last)",
      "Cell \u001b[0;32mIn[45], line 1\u001b[0m\n\u001b[0;32m----> 1\u001b[0m \u001b[43marr\u001b[49m\u001b[38;5;241;43m.\u001b[39;49m\u001b[43mreshape\u001b[49m\u001b[43m(\u001b[49m\u001b[38;5;241;43m6\u001b[39;49m\u001b[43m,\u001b[49m\u001b[38;5;241;43m3\u001b[39;49m\u001b[43m)\u001b[49m\n",
      "\u001b[0;31mValueError\u001b[0m: cannot reshape array of size 12 into shape (6,3)"
     ]
    }
   ],
   "source": [
    "arr.reshape(6,3)"
   ]
  },
  {
   "cell_type": "code",
   "execution_count": 48,
   "id": "79234a65-f612-4394-8d34-ab81043db1f5",
   "metadata": {},
   "outputs": [
    {
     "data": {
      "text/plain": [
       "array([[0.48639165, 0.38409108],\n",
       "       [0.76979264, 0.59766479],\n",
       "       [0.94562373, 0.70073822],\n",
       "       [0.87727591, 0.84661373],\n",
       "       [0.36843846, 0.18980989],\n",
       "       [0.87428786, 0.58449461]])"
      ]
     },
     "execution_count": 48,
     "metadata": {},
     "output_type": "execute_result"
    }
   ],
   "source": [
    "arr.reshape(6,-1)\n",
    "#-1 matlab ek diamention khud se samajh raha hai. koi bhi -value do ek dim 6 hai and 2nd is 2 bcoz data is 1"
   ]
  },
  {
   "cell_type": "code",
   "execution_count": 49,
   "id": "b8ca7ee5-4e1b-46dc-a859-659fd3c99ea3",
   "metadata": {},
   "outputs": [],
   "source": [
    "arr1= arr.reshape(6,-1323)"
   ]
  },
  {
   "cell_type": "code",
   "execution_count": 50,
   "id": "f3629c4f-bd72-4053-8f0f-1870cc6a824f",
   "metadata": {},
   "outputs": [
    {
     "data": {
      "text/plain": [
       "array([[0.48639165, 0.38409108],\n",
       "       [0.76979264, 0.59766479],\n",
       "       [0.94562373, 0.70073822],\n",
       "       [0.87727591, 0.84661373],\n",
       "       [0.36843846, 0.18980989],\n",
       "       [0.87428786, 0.58449461]])"
      ]
     },
     "execution_count": 50,
     "metadata": {},
     "output_type": "execute_result"
    }
   ],
   "source": [
    "arr1"
   ]
  },
  {
   "cell_type": "code",
   "execution_count": 53,
   "id": "704b9984-2451-43f8-a90e-8d64ff63f994",
   "metadata": {},
   "outputs": [
    {
     "data": {
      "text/plain": [
       "array([0.76979264, 0.59766479])"
      ]
     },
     "execution_count": 53,
     "metadata": {},
     "output_type": "execute_result"
    }
   ],
   "source": [
    "#want to extract specific data from set so indexing,slicing opration\n",
    "#column 2 index5\n",
    "#want to extract data of 1st row 1st column\n",
    "arr1[1]"
   ]
  },
  {
   "cell_type": "code",
   "execution_count": 54,
   "id": "cd1b5b79-572b-4bfc-92f7-46d1ae3e84da",
   "metadata": {},
   "outputs": [
    {
     "data": {
      "text/plain": [
       "0.5976647907344192"
      ]
     },
     "execution_count": 54,
     "metadata": {},
     "output_type": "execute_result"
    }
   ],
   "source": [
    "arr1[1][1]"
   ]
  },
  {
   "cell_type": "code",
   "execution_count": 65,
   "id": "004d1c3a-ae81-420c-b1f3-c97c38e5bc81",
   "metadata": {},
   "outputs": [
    {
     "data": {
      "text/plain": [
       "array([[0.87727591, 0.84661373],\n",
       "       [0.36843846, 0.18980989],\n",
       "       [0.87428786, 0.58449461]])"
      ]
     },
     "execution_count": 65,
     "metadata": {},
     "output_type": "execute_result"
    }
   ],
   "source": [
    "#want to extract random values  s/a  0.84661373,, 0.18980989, 0.58449461\n",
    "arr1[3:6]"
   ]
  },
  {
   "cell_type": "code",
   "execution_count": 66,
   "id": "297611e0-5fcf-444c-8acf-5140ddd50a20",
   "metadata": {},
   "outputs": [
    {
     "data": {
      "text/plain": [
       "array([0.84661373, 0.18980989, 0.58449461])"
      ]
     },
     "execution_count": 66,
     "metadata": {},
     "output_type": "execute_result"
    }
   ],
   "source": [
    "#[row,colum]\n",
    "arr1[3:6,1]"
   ]
  },
  {
   "cell_type": "code",
   "execution_count": 3,
   "id": "ae356cf8-1721-4c94-af70-3417123fa1b8",
   "metadata": {},
   "outputs": [],
   "source": [
    "#data nikalo from/between 1-100 5cross 5 ka array 5row,5 column\n",
    "arr= np.random.randint(1,100,(5,5))"
   ]
  },
  {
   "cell_type": "code",
   "execution_count": 4,
   "id": "c0dda097-ec3f-4b8f-adea-2f114e3d636f",
   "metadata": {},
   "outputs": [
    {
     "data": {
      "text/plain": [
       "array([[87, 82, 63, 51, 37],\n",
       "       [98, 66,  4, 83, 28],\n",
       "       [ 3, 23, 23, 90, 76],\n",
       "       [91, 92, 46, 76, 27],\n",
       "       [80, 26, 85, 54, 40]])"
      ]
     },
     "execution_count": 4,
     "metadata": {},
     "output_type": "execute_result"
    }
   ],
   "source": [
    "arr"
   ]
  },
  {
   "cell_type": "code",
   "execution_count": 5,
   "id": "f8ac7795-b43d-49d9-b01e-4e9aeb12ca25",
   "metadata": {},
   "outputs": [
    {
     "data": {
      "text/plain": [
       "array([[ True,  True,  True,  True,  True],\n",
       "       [ True,  True, False,  True,  True],\n",
       "       [False, False, False,  True,  True],\n",
       "       [ True,  True,  True,  True,  True],\n",
       "       [ True,  True,  True,  True,  True]])"
      ]
     },
     "execution_count": 5,
     "metadata": {},
     "output_type": "execute_result"
    }
   ],
   "source": [
    "#conditional \n",
    "#only greater than 25 data nikalo\n",
    "arr>25\n",
    "#jaha par greater than 25 hai vaha true nahi hai vaha false hence to see value"
   ]
  },
  {
   "cell_type": "code",
   "execution_count": 6,
   "id": "e2a70663-2582-42f2-8f4d-2ed6230871c7",
   "metadata": {},
   "outputs": [
    {
     "data": {
      "text/plain": [
       "array([87, 82, 63, 51, 37, 98, 66, 83, 28, 90, 76, 91, 92, 46, 76, 27, 80,\n",
       "       26, 85, 54, 40])"
      ]
     },
     "execution_count": 6,
     "metadata": {},
     "output_type": "execute_result"
    }
   ],
   "source": [
    "arr[arr>25]"
   ]
  },
  {
   "cell_type": "code",
   "execution_count": 7,
   "id": "139cec03-187f-4a0d-9651-244fede8b5d3",
   "metadata": {},
   "outputs": [
    {
     "data": {
      "text/plain": [
       "array([[87, 82, 63, 51, 37],\n",
       "       [98, 66,  4, 83, 28],\n",
       "       [ 3, 23, 23, 90, 76],\n",
       "       [91, 92, 46, 76, 27],\n",
       "       [80, 26, 85, 54, 40]])"
      ]
     },
     "execution_count": 7,
     "metadata": {},
     "output_type": "execute_result"
    }
   ],
   "source": [
    "arr"
   ]
  },
  {
   "cell_type": "code",
   "execution_count": 10,
   "id": "07c58f1d-7081-414c-aa7a-818856f49de8",
   "metadata": {},
   "outputs": [
    {
     "data": {
      "text/plain": [
       "array([[23, 23],\n",
       "       [92, 46]])"
      ]
     },
     "execution_count": 10,
     "metadata": {},
     "output_type": "execute_result"
    }
   ],
   "source": [
    "arr[2:4,[1,2]]"
   ]
  },
  {
   "cell_type": "code",
   "execution_count": 11,
   "id": "aebd39ad-4d81-4127-895b-411ffde87b0a",
   "metadata": {},
   "outputs": [
    {
     "data": {
      "text/plain": [
       "87"
      ]
     },
     "execution_count": 11,
     "metadata": {},
     "output_type": "execute_result"
    }
   ],
   "source": [
    "arr[0][0]"
   ]
  },
  {
   "cell_type": "code",
   "execution_count": 14,
   "id": "666a8f33-5b37-4f6f-8958-befd45a388df",
   "metadata": {},
   "outputs": [],
   "source": [
    "#manupulate data\n",
    "arr[0][0]=500"
   ]
  },
  {
   "cell_type": "code",
   "execution_count": 15,
   "id": "5aecc2b4-188b-48dc-a656-a5a1013fdd30",
   "metadata": {},
   "outputs": [
    {
     "data": {
      "text/plain": [
       "array([[500,  82,  63,  51,  37],\n",
       "       [ 98,  66,   4,  83,  28],\n",
       "       [  3,  23,  23,  90,  76],\n",
       "       [ 91,  92,  46,  76,  27],\n",
       "       [ 80,  26,  85,  54,  40]])"
      ]
     },
     "execution_count": 15,
     "metadata": {},
     "output_type": "execute_result"
    }
   ],
   "source": [
    "arr"
   ]
  },
  {
   "cell_type": "code",
   "execution_count": 16,
   "id": "8f1ad73a-d139-4925-9b7c-40674eae1c62",
   "metadata": {},
   "outputs": [],
   "source": [
    "arr1= np.random.randint(1,3,(3,3))\n",
    "arr2= np.random.randint(1,3,(3,3))"
   ]
  },
  {
   "cell_type": "code",
   "execution_count": 17,
   "id": "420eaad3-2974-4630-849e-fd227c4dcb73",
   "metadata": {},
   "outputs": [
    {
     "data": {
      "text/plain": [
       "array([[2, 1, 1],\n",
       "       [1, 1, 1],\n",
       "       [2, 1, 2]])"
      ]
     },
     "execution_count": 17,
     "metadata": {},
     "output_type": "execute_result"
    }
   ],
   "source": [
    "arr1"
   ]
  },
  {
   "cell_type": "code",
   "execution_count": 18,
   "id": "2d845947-eab6-4e4e-ba63-e7cf8b5d3b63",
   "metadata": {},
   "outputs": [
    {
     "data": {
      "text/plain": [
       "array([[2, 1, 2],\n",
       "       [1, 1, 2],\n",
       "       [2, 2, 2]])"
      ]
     },
     "execution_count": 18,
     "metadata": {},
     "output_type": "execute_result"
    }
   ],
   "source": [
    "arr2"
   ]
  },
  {
   "cell_type": "code",
   "execution_count": 23,
   "id": "61a8a8b5-7a04-4e6e-a992-7489869aae29",
   "metadata": {},
   "outputs": [
    {
     "data": {
      "text/plain": [
       "array([[4, 2, 3],\n",
       "       [2, 2, 3],\n",
       "       [4, 3, 4]])"
      ]
     },
     "execution_count": 23,
     "metadata": {},
     "output_type": "execute_result"
    }
   ],
   "source": [
    "#index  vise + not matrix vise\n",
    "arr1+arr2"
   ]
  },
  {
   "cell_type": "code",
   "execution_count": 20,
   "id": "fad25cfc-7d02-4ded-8d8f-a0eaf2a4ed5a",
   "metadata": {},
   "outputs": [
    {
     "data": {
      "text/plain": [
       "array([[ 0,  0, -1],\n",
       "       [ 0,  0, -1],\n",
       "       [ 0, -1,  0]])"
      ]
     },
     "execution_count": 20,
     "metadata": {},
     "output_type": "execute_result"
    }
   ],
   "source": [
    "arr1-arr2"
   ]
  },
  {
   "cell_type": "code",
   "execution_count": 21,
   "id": "2a78a5b4-9f7e-4490-aaee-3ad392e00819",
   "metadata": {},
   "outputs": [
    {
     "data": {
      "text/plain": [
       "array([[4, 1, 2],\n",
       "       [1, 1, 2],\n",
       "       [4, 2, 4]])"
      ]
     },
     "execution_count": 21,
     "metadata": {},
     "output_type": "execute_result"
    }
   ],
   "source": [
    "arr1*arr2"
   ]
  },
  {
   "cell_type": "code",
   "execution_count": 22,
   "id": "cca21737-0188-4f73-8668-c135a34eed05",
   "metadata": {},
   "outputs": [
    {
     "data": {
      "text/plain": [
       "array([[1. , 1. , 0.5],\n",
       "       [1. , 1. , 0.5],\n",
       "       [1. , 0.5, 1. ]])"
      ]
     },
     "execution_count": 22,
     "metadata": {},
     "output_type": "execute_result"
    }
   ],
   "source": [
    "arr1/arr2"
   ]
  },
  {
   "cell_type": "code",
   "execution_count": 24,
   "id": "22b31c93-755f-43ba-8b0a-2d79cfb29484",
   "metadata": {},
   "outputs": [
    {
     "data": {
      "text/plain": [
       "array([[ 7,  5,  8],\n",
       "       [ 5,  4,  6],\n",
       "       [ 9,  7, 10]])"
      ]
     },
     "execution_count": 24,
     "metadata": {},
     "output_type": "execute_result"
    }
   ],
   "source": [
    "#matrix vise multiplication\n",
    "arr1@arr2"
   ]
  },
  {
   "cell_type": "code",
   "execution_count": 27,
   "id": "4fec1d1f-6c66-4f7b-bb9f-f0c9a6f24c11",
   "metadata": {},
   "outputs": [
    {
     "name": "stderr",
     "output_type": "stream",
     "text": [
      "/tmp/ipykernel_77/1510032488.py:1: RuntimeWarning: divide by zero encountered in divide\n",
      "  arr1/0\n"
     ]
    },
    {
     "data": {
      "text/plain": [
       "array([[inf, inf, inf],\n",
       "       [inf, inf, inf],\n",
       "       [inf, inf, inf]])"
      ]
     },
     "execution_count": 27,
     "metadata": {},
     "output_type": "execute_result"
    }
   ],
   "source": [
    "arr1/0"
   ]
  },
  {
   "cell_type": "code",
   "execution_count": 28,
   "id": "b8ad9394-e9e7-4f35-a27d-a31b1c09b9d3",
   "metadata": {},
   "outputs": [
    {
     "data": {
      "text/plain": [
       "array([[102, 101, 101],\n",
       "       [101, 101, 101],\n",
       "       [102, 101, 102]])"
      ]
     },
     "execution_count": 28,
     "metadata": {},
     "output_type": "execute_result"
    }
   ],
   "source": [
    "arr1+100"
   ]
  },
  {
   "cell_type": "code",
   "execution_count": 29,
   "id": "d8a9b44e-9f37-4190-aaf9-f223471f5ae0",
   "metadata": {},
   "outputs": [
    {
     "data": {
      "text/plain": [
       "array([[4, 1, 1],\n",
       "       [1, 1, 1],\n",
       "       [4, 1, 4]])"
      ]
     },
     "execution_count": 29,
     "metadata": {},
     "output_type": "execute_result"
    }
   ],
   "source": [
    "arr1**2"
   ]
  },
  {
   "cell_type": "code",
   "execution_count": 31,
   "id": "63372ee0-125f-4024-96d0-b022e7b67a55",
   "metadata": {},
   "outputs": [],
   "source": [
    "#broadcating\n",
    "arrr= np.zeros((4,4))"
   ]
  },
  {
   "cell_type": "code",
   "execution_count": 32,
   "id": "6482480a-41b1-439c-ad30-4253256f9e31",
   "metadata": {},
   "outputs": [
    {
     "data": {
      "text/plain": [
       "array([[0., 0., 0., 0.],\n",
       "       [0., 0., 0., 0.],\n",
       "       [0., 0., 0., 0.],\n",
       "       [0., 0., 0., 0.]])"
      ]
     },
     "execution_count": 32,
     "metadata": {},
     "output_type": "execute_result"
    }
   ],
   "source": [
    "arrr"
   ]
  },
  {
   "cell_type": "code",
   "execution_count": 33,
   "id": "eef644b5-6f13-411a-bf12-c696389a00ef",
   "metadata": {},
   "outputs": [],
   "source": [
    "row= np.array([1,2,3,4])"
   ]
  },
  {
   "cell_type": "code",
   "execution_count": 34,
   "id": "a6383fa9-a014-4fa6-ab05-c3cbe03fa289",
   "metadata": {},
   "outputs": [
    {
     "data": {
      "text/plain": [
       "array([1, 2, 3, 4])"
      ]
     },
     "execution_count": 34,
     "metadata": {},
     "output_type": "execute_result"
    }
   ],
   "source": [
    "row"
   ]
  },
  {
   "cell_type": "code",
   "execution_count": 35,
   "id": "01a64dff-b931-40a1-a78c-abe650db3ea2",
   "metadata": {},
   "outputs": [
    {
     "data": {
      "text/plain": [
       "array([[1., 2., 3., 4.],\n",
       "       [1., 2., 3., 4.],\n",
       "       [1., 2., 3., 4.],\n",
       "       [1., 2., 3., 4.]])"
      ]
     },
     "execution_count": 35,
     "metadata": {},
     "output_type": "execute_result"
    }
   ],
   "source": [
    "arrr+row"
   ]
  },
  {
   "cell_type": "code",
   "execution_count": 38,
   "id": "f8b82211-49b2-490b-86bb-08fb5ceb8a59",
   "metadata": {},
   "outputs": [
    {
     "data": {
      "text/plain": [
       "array([1, 2, 3, 4])"
      ]
     },
     "execution_count": 38,
     "metadata": {},
     "output_type": "execute_result"
    }
   ],
   "source": [
    "#add by column vise\n",
    "#TRanspose.1d GHUMEGA nahi 2D GHUM SAKTA AI\n",
    "row.T"
   ]
  },
  {
   "cell_type": "code",
   "execution_count": 39,
   "id": "f03909f7-ebc6-4620-bb9d-f57f014a25fa",
   "metadata": {},
   "outputs": [],
   "source": [
    "col= np.array([[1, 2, 3, 4]])"
   ]
  },
  {
   "cell_type": "code",
   "execution_count": 40,
   "id": "dc0ffa79-4246-4a34-a04d-a73ff3b8a68b",
   "metadata": {},
   "outputs": [
    {
     "data": {
      "text/plain": [
       "array([[1, 2, 3, 4]])"
      ]
     },
     "execution_count": 40,
     "metadata": {},
     "output_type": "execute_result"
    }
   ],
   "source": [
    "col"
   ]
  },
  {
   "cell_type": "code",
   "execution_count": 42,
   "id": "1f23e967-8127-4031-a702-753df65dedfb",
   "metadata": {},
   "outputs": [
    {
     "data": {
      "text/plain": [
       "array([[1],\n",
       "       [2],\n",
       "       [3],\n",
       "       [4]])"
      ]
     },
     "execution_count": 42,
     "metadata": {},
     "output_type": "execute_result"
    }
   ],
   "source": [
    "col.T"
   ]
  },
  {
   "cell_type": "code",
   "execution_count": 44,
   "id": "7b20159b-7900-41d9-a5c1-47ea61919458",
   "metadata": {},
   "outputs": [
    {
     "data": {
      "text/plain": [
       "array([[1, 2, 3, 4]])"
      ]
     },
     "execution_count": 44,
     "metadata": {},
     "output_type": "execute_result"
    }
   ],
   "source": [
    "col"
   ]
  },
  {
   "cell_type": "code",
   "execution_count": 46,
   "id": "c781a1a0-f46d-4d35-8ba5-b9585414582d",
   "metadata": {},
   "outputs": [
    {
     "name": "stderr",
     "output_type": "stream",
     "text": [
      "<>:1: SyntaxWarning: 'int' object is not callable; perhaps you missed a comma?\n",
      "<>:1: SyntaxWarning: 'int' object is not callable; perhaps you missed a comma?\n",
      "/tmp/ipykernel_77/2945069087.py:1: SyntaxWarning: 'int' object is not callable; perhaps you missed a comma?\n",
      "  arr1=np.random.randint(1,4(3,4))\n",
      "/tmp/ipykernel_77/2945069087.py:1: SyntaxWarning: 'int' object is not callable; perhaps you missed a comma?\n",
      "  arr1=np.random.randint(1,4(3,4))\n",
      "/tmp/ipykernel_77/2945069087.py:1: SyntaxWarning: 'int' object is not callable; perhaps you missed a comma?\n",
      "  arr1=np.random.randint(1,4(3,4))\n",
      "/tmp/ipykernel_77/2945069087.py:1: SyntaxWarning: 'int' object is not callable; perhaps you missed a comma?\n",
      "  arr1=np.random.randint(1,4(3,4))\n"
     ]
    },
    {
     "ename": "TypeError",
     "evalue": "'int' object is not callable",
     "output_type": "error",
     "traceback": [
      "\u001b[0;31m---------------------------------------------------------------------------\u001b[0m",
      "\u001b[0;31mTypeError\u001b[0m                                 Traceback (most recent call last)",
      "Cell \u001b[0;32mIn[46], line 1\u001b[0m\n\u001b[0;32m----> 1\u001b[0m arr1\u001b[38;5;241m=\u001b[39mnp\u001b[38;5;241m.\u001b[39mrandom\u001b[38;5;241m.\u001b[39mrandint(\u001b[38;5;241m1\u001b[39m,\u001b[38;5;241;43m4\u001b[39;49m\u001b[43m(\u001b[49m\u001b[38;5;241;43m3\u001b[39;49m\u001b[43m,\u001b[49m\u001b[38;5;241;43m4\u001b[39;49m\u001b[43m)\u001b[49m)\n",
      "\u001b[0;31mTypeError\u001b[0m: 'int' object is not callable"
     ]
    }
   ],
   "source": [
    "arr1=np.random.randint(1,4(3,4))"
   ]
  },
  {
   "cell_type": "code",
   "execution_count": null,
   "id": "2ada3841-33fa-4335-bf89-8521a3b19f4e",
   "metadata": {},
   "outputs": [],
   "source": []
  },
  {
   "cell_type": "code",
   "execution_count": null,
   "id": "8c594915-847d-419e-9cd9-7aaefafbe5e6",
   "metadata": {},
   "outputs": [],
   "source": []
  },
  {
   "cell_type": "code",
   "execution_count": null,
   "id": "ea10d9be-9dfa-4fa4-80ef-fd31dd29a2c4",
   "metadata": {},
   "outputs": [],
   "source": []
  },
  {
   "cell_type": "code",
   "execution_count": 1,
   "id": "0e1bbe9e-ef16-4cdd-a869-ba4fce574c11",
   "metadata": {},
   "outputs": [],
   "source": [
    "########### LECTURE 2 #####"
   ]
  },
  {
   "cell_type": "code",
   "execution_count": 9,
   "id": "e66836de-20ac-4694-a217-38d7b04bcc01",
   "metadata": {},
   "outputs": [],
   "source": [
    "import numpy as np\n",
    "import pandas as pd"
   ]
  },
  {
   "cell_type": "code",
   "execution_count": 20,
   "id": "842ad06d-48ab-4348-992f-36ef080dcb1f",
   "metadata": {},
   "outputs": [],
   "source": [
    "ar= np.random.randint(1,10,(3,4))"
   ]
  },
  {
   "cell_type": "code",
   "execution_count": 11,
   "id": "d05bfb70-df9c-49b2-be27-15766c6802bd",
   "metadata": {},
   "outputs": [
    {
     "data": {
      "text/plain": [
       "array([[2, 2, 6, 8],\n",
       "       [9, 6, 4, 6],\n",
       "       [1, 8, 2, 6]])"
      ]
     },
     "execution_count": 11,
     "metadata": {},
     "output_type": "execute_result"
    }
   ],
   "source": [
    "ar"
   ]
  },
  {
   "cell_type": "code",
   "execution_count": 13,
   "id": "66f8ded8-0c9a-4b08-ac84-08052f77371f",
   "metadata": {},
   "outputs": [
    {
     "data": {
      "text/html": [
       "<div>\n",
       "<style scoped>\n",
       "    .dataframe tbody tr th:only-of-type {\n",
       "        vertical-align: middle;\n",
       "    }\n",
       "\n",
       "    .dataframe tbody tr th {\n",
       "        vertical-align: top;\n",
       "    }\n",
       "\n",
       "    .dataframe thead th {\n",
       "        text-align: right;\n",
       "    }\n",
       "</style>\n",
       "<table border=\"1\" class=\"dataframe\">\n",
       "  <thead>\n",
       "    <tr style=\"text-align: right;\">\n",
       "      <th></th>\n",
       "      <th>0</th>\n",
       "      <th>1</th>\n",
       "      <th>2</th>\n",
       "      <th>3</th>\n",
       "    </tr>\n",
       "  </thead>\n",
       "  <tbody>\n",
       "    <tr>\n",
       "      <th>0</th>\n",
       "      <td>2</td>\n",
       "      <td>2</td>\n",
       "      <td>6</td>\n",
       "      <td>8</td>\n",
       "    </tr>\n",
       "    <tr>\n",
       "      <th>1</th>\n",
       "      <td>9</td>\n",
       "      <td>6</td>\n",
       "      <td>4</td>\n",
       "      <td>6</td>\n",
       "    </tr>\n",
       "    <tr>\n",
       "      <th>2</th>\n",
       "      <td>1</td>\n",
       "      <td>8</td>\n",
       "      <td>2</td>\n",
       "      <td>6</td>\n",
       "    </tr>\n",
       "  </tbody>\n",
       "</table>\n",
       "</div>"
      ],
      "text/plain": [
       "   0  1  2  3\n",
       "0  2  2  6  8\n",
       "1  9  6  4  6\n",
       "2  1  8  2  6"
      ]
     },
     "execution_count": 13,
     "metadata": {},
     "output_type": "execute_result"
    }
   ],
   "source": [
    " pd.DataFrame(ar)"
   ]
  },
  {
   "cell_type": "code",
   "execution_count": 15,
   "id": "c05cac6a-1eed-4f70-9c12-0084ff0466c8",
   "metadata": {},
   "outputs": [
    {
     "data": {
      "text/plain": [
       "array([[2, 2],\n",
       "       [6, 8],\n",
       "       [9, 6],\n",
       "       [4, 6],\n",
       "       [1, 8],\n",
       "       [2, 6]])"
      ]
     },
     "execution_count": 15,
     "metadata": {},
     "output_type": "execute_result"
    }
   ],
   "source": [
    "ar.reshape(6,2)"
   ]
  },
  {
   "cell_type": "code",
   "execution_count": 16,
   "id": "f64ea924-e5ee-42a5-8662-d1e2f8fa530d",
   "metadata": {},
   "outputs": [
    {
     "data": {
      "text/plain": [
       "array([[2, 2, 6, 8, 9, 6],\n",
       "       [4, 6, 1, 8, 2, 6]])"
      ]
     },
     "execution_count": 16,
     "metadata": {},
     "output_type": "execute_result"
    }
   ],
   "source": [
    "ar.reshape(2,6)"
   ]
  },
  {
   "cell_type": "code",
   "execution_count": 17,
   "id": "b398a74f-8632-46ab-b706-544e4a5cfb78",
   "metadata": {},
   "outputs": [
    {
     "data": {
      "text/plain": [
       "array([[2, 2, 6, 8, 9, 6],\n",
       "       [4, 6, 1, 8, 2, 6]])"
      ]
     },
     "execution_count": 17,
     "metadata": {},
     "output_type": "execute_result"
    }
   ],
   "source": [
    "ar.reshape(2,-2423)"
   ]
  },
  {
   "cell_type": "code",
   "execution_count": 20,
   "id": "d024bdf4-e2f2-4535-804f-32b4cd7a72bc",
   "metadata": {},
   "outputs": [
    {
     "data": {
      "text/plain": [
       "array([[2, 9, 1],\n",
       "       [2, 6, 8],\n",
       "       [6, 4, 2],\n",
       "       [8, 6, 6]])"
      ]
     },
     "execution_count": 20,
     "metadata": {},
     "output_type": "execute_result"
    }
   ],
   "source": [
    "#Transpose\n",
    "ar.T"
   ]
  },
  {
   "cell_type": "code",
   "execution_count": 21,
   "id": "7cce3a5f-eab1-4b8f-8e33-98c42203da82",
   "metadata": {},
   "outputs": [
    {
     "data": {
      "text/plain": [
       "array([[2, 2, 6, 8],\n",
       "       [9, 6, 4, 6],\n",
       "       [1, 8, 2, 6]])"
      ]
     },
     "execution_count": 21,
     "metadata": {},
     "output_type": "execute_result"
    }
   ],
   "source": [
    "ar"
   ]
  },
  {
   "cell_type": "code",
   "execution_count": 22,
   "id": "e0ffb75a-0935-42f8-8270-41075ca5814b",
   "metadata": {},
   "outputs": [
    {
     "data": {
      "text/plain": [
       "array([2, 2, 6, 8, 9, 6, 4, 6, 1, 8, 2, 6])"
      ]
     },
     "execution_count": 22,
     "metadata": {},
     "output_type": "execute_result"
    }
   ],
   "source": [
    "#jo bhi data hai usko 1D me convert karta hai. \n",
    "ar.flatten()"
   ]
  },
  {
   "cell_type": "code",
   "execution_count": 24,
   "id": "6fdd9bd6-e432-411c-96b2-b44591893fa6",
   "metadata": {},
   "outputs": [],
   "source": [
    "ar1= np.array([1,2,3,4])"
   ]
  },
  {
   "cell_type": "code",
   "execution_count": 25,
   "id": "138cfe77-4bd0-4131-9cb7-6b237ef709a9",
   "metadata": {},
   "outputs": [
    {
     "data": {
      "text/plain": [
       "1"
      ]
     },
     "execution_count": 25,
     "metadata": {},
     "output_type": "execute_result"
    }
   ],
   "source": [
    "ar1.ndim"
   ]
  },
  {
   "cell_type": "code",
   "execution_count": 28,
   "id": "e2de0db4-2f78-4f17-80e3-4127ab781a56",
   "metadata": {},
   "outputs": [
    {
     "data": {
      "text/plain": [
       "array([[1],\n",
       "       [2],\n",
       "       [3],\n",
       "       [4]])"
      ]
     },
     "execution_count": 28,
     "metadata": {},
     "output_type": "execute_result"
    }
   ],
   "source": [
    "#expand _dims = ar1 1D array tha usko 2D ME  CONVERT KAREGA [] YE 1 THA USKO [[]] KIYA MEANS 2D\n",
    "np.expand_dims(ar1, axis=1)"
   ]
  },
  {
   "cell_type": "code",
   "execution_count": 29,
   "id": "57e9250c-98ec-4a6a-8496-7903305937ac",
   "metadata": {},
   "outputs": [
    {
     "data": {
      "text/plain": [
       "array([[1, 2, 3, 4]])"
      ]
     },
     "execution_count": 29,
     "metadata": {},
     "output_type": "execute_result"
    }
   ],
   "source": [
    "np.expand_dims(ar1, axis=0)"
   ]
  },
  {
   "cell_type": "code",
   "execution_count": 32,
   "id": "234a2090-9379-48d4-a654-9e0fdf340b91",
   "metadata": {},
   "outputs": [
    {
     "data": {
      "text/plain": [
       "array([[2, 2, 6, 8],\n",
       "       [9, 6, 4, 6],\n",
       "       [1, 8, 2, 6]])"
      ]
     },
     "execution_count": 32,
     "metadata": {},
     "output_type": "execute_result"
    }
   ],
   "source": [
    "#2d array\n",
    "ar"
   ]
  },
  {
   "cell_type": "code",
   "execution_count": 33,
   "id": "53a7e6dd-6963-4fc3-b076-b394db776d6c",
   "metadata": {},
   "outputs": [
    {
     "data": {
      "text/plain": [
       "array([[2, 2, 6, 8],\n",
       "       [9, 6, 4, 6],\n",
       "       [1, 8, 2, 6]])"
      ]
     },
     "execution_count": 33,
     "metadata": {},
     "output_type": "execute_result"
    }
   ],
   "source": [
    "np.squeeze(ar)"
   ]
  },
  {
   "cell_type": "code",
   "execution_count": 34,
   "id": "28854ac6-8eb2-4de8-a3d9-8c214e77671c",
   "metadata": {},
   "outputs": [],
   "source": [
    "data= np.array([[1],[2],[3],[4]])"
   ]
  },
  {
   "cell_type": "code",
   "execution_count": 35,
   "id": "db75be9f-f737-4cc5-8714-b869c420e920",
   "metadata": {},
   "outputs": [
    {
     "data": {
      "text/plain": [
       "array([[1],\n",
       "       [2],\n",
       "       [3],\n",
       "       [4]])"
      ]
     },
     "execution_count": 35,
     "metadata": {},
     "output_type": "execute_result"
    }
   ],
   "source": [
    "data"
   ]
  },
  {
   "cell_type": "code",
   "execution_count": 40,
   "id": "845b8444-7256-4a87-b99a-282fb0189c49",
   "metadata": {},
   "outputs": [
    {
     "data": {
      "text/plain": [
       "array([1, 2, 3, 4])"
      ]
     },
     "execution_count": 40,
     "metadata": {},
     "output_type": "execute_result"
    }
   ],
   "source": [
    "#([[1],[2],[3],[4]]) 2D tha usko 1D kiya sabko squeeze\n",
    "np.squeeze(data)"
   ]
  },
  {
   "cell_type": "code",
   "execution_count": 41,
   "id": "2fd2f9e2-7b3b-4918-862f-c31b4871e23e",
   "metadata": {},
   "outputs": [
    {
     "data": {
      "text/plain": [
       "array([1, 2, 3, 4])"
      ]
     },
     "execution_count": 41,
     "metadata": {},
     "output_type": "execute_result"
    }
   ],
   "source": [
    "ar1"
   ]
  },
  {
   "cell_type": "code",
   "execution_count": 44,
   "id": "3868b761-0540-4e4f-8956-77549b0491af",
   "metadata": {},
   "outputs": [
    {
     "data": {
      "text/plain": [
       "array([1, 1, 1, 2, 2, 2, 3, 3, 3, 4, 4, 4])"
      ]
     },
     "execution_count": 44,
     "metadata": {},
     "output_type": "execute_result"
    }
   ],
   "source": [
    "# ar1 ke andar jo bhi element hai usko 3 times repeat kar diya\n",
    "np.repeat(ar1,3)"
   ]
  },
  {
   "cell_type": "code",
   "execution_count": 50,
   "id": "9184c37f-0c1b-47b3-95ed-0abdbf2f66c3",
   "metadata": {},
   "outputs": [
    {
     "data": {
      "text/plain": [
       "array([3, 4, 1, 2])"
      ]
     },
     "execution_count": 50,
     "metadata": {},
     "output_type": "execute_result"
    }
   ],
   "source": [
    "#2 is shift parameter\n",
    "#1 jo tha vo 0 pe available tha so 0+1, 2 1 pe available tha in index so 2+1 and so on\n",
    "np.roll(ar1 , 2)"
   ]
  },
  {
   "cell_type": "code",
   "execution_count": null,
   "id": "ff26d00c-b88e-4a5c-9fb4-0703b65de46a",
   "metadata": {},
   "outputs": [],
   "source": []
  },
  {
   "cell_type": "code",
   "execution_count": 47,
   "id": "6c5a98d5-bddd-4573-9a10-789cb174353a",
   "metadata": {},
   "outputs": [
    {
     "data": {
      "text/plain": [
       "array([1, 2, 3, 4])"
      ]
     },
     "execution_count": 47,
     "metadata": {},
     "output_type": "execute_result"
    }
   ],
   "source": [
    "ar1"
   ]
  },
  {
   "cell_type": "code",
   "execution_count": 53,
   "id": "a79874d7-ed5b-49df-825c-06a03921c131",
   "metadata": {},
   "outputs": [
    {
     "data": {
      "text/plain": [
       "array([[1, 0, 0, 0],\n",
       "       [0, 2, 0, 0],\n",
       "       [0, 0, 3, 0],\n",
       "       [0, 0, 0, 4]])"
      ]
     },
     "execution_count": 53,
     "metadata": {},
     "output_type": "execute_result"
    }
   ],
   "source": [
    "#2D matrix banayega and apne data ko diagonally pass karega numbers\n",
    "np.diag(ar1)"
   ]
  },
  {
   "cell_type": "code",
   "execution_count": 54,
   "id": "07e0cb7b-f341-4e51-9092-b22af695ca11",
   "metadata": {},
   "outputs": [],
   "source": [
    "###BINARY OPRATIONS IN NUMPY"
   ]
  },
  {
   "cell_type": "code",
   "execution_count": 62,
   "id": "7ff8bf31-8804-48ac-97b7-cc22f8ec33d2",
   "metadata": {},
   "outputs": [],
   "source": [
    "ar2= np.random.randint(1,10,(3,4))"
   ]
  },
  {
   "cell_type": "code",
   "execution_count": 59,
   "id": "207a3958-96b5-49eb-a259-a6ac0576adfc",
   "metadata": {},
   "outputs": [
    {
     "data": {
      "text/plain": [
       "array([[2, 2, 6, 8],\n",
       "       [9, 6, 4, 6],\n",
       "       [1, 8, 2, 6]])"
      ]
     },
     "execution_count": 59,
     "metadata": {},
     "output_type": "execute_result"
    }
   ],
   "source": [
    "ar"
   ]
  },
  {
   "cell_type": "code",
   "execution_count": 63,
   "id": "52fb7b10-b0da-418c-86e4-77d8970f03b9",
   "metadata": {},
   "outputs": [
    {
     "data": {
      "text/plain": [
       "array([[9, 6, 9, 6],\n",
       "       [5, 5, 5, 6],\n",
       "       [1, 1, 8, 5]])"
      ]
     },
     "execution_count": 63,
     "metadata": {},
     "output_type": "execute_result"
    }
   ],
   "source": [
    "ar2"
   ]
  },
  {
   "cell_type": "code",
   "execution_count": 65,
   "id": "bb260611-01db-40c9-8b4e-a5fea2f4a883",
   "metadata": {},
   "outputs": [
    {
     "data": {
      "text/plain": [
       "array([[11,  8, 15, 14],\n",
       "       [14, 11,  9, 12],\n",
       "       [ 2,  9, 10, 11]])"
      ]
     },
     "execution_count": 65,
     "metadata": {},
     "output_type": "execute_result"
    }
   ],
   "source": [
    "#index vise opration karega +\n",
    "ar+ar2"
   ]
  },
  {
   "cell_type": "code",
   "execution_count": 66,
   "id": "30a20b7d-eebc-45bb-9aff-bd837e5567e1",
   "metadata": {},
   "outputs": [
    {
     "data": {
      "text/plain": [
       "array([[18, 12, 54, 48],\n",
       "       [45, 30, 20, 36],\n",
       "       [ 1,  8, 16, 30]])"
      ]
     },
     "execution_count": 66,
     "metadata": {},
     "output_type": "execute_result"
    }
   ],
   "source": [
    "ar*ar2"
   ]
  },
  {
   "cell_type": "code",
   "execution_count": 67,
   "id": "2be8282c-2dc1-4e0b-95ea-a6c97e86c4d3",
   "metadata": {},
   "outputs": [
    {
     "data": {
      "text/plain": [
       "array([[0.22222222, 0.33333333, 0.66666667, 1.33333333],\n",
       "       [1.8       , 1.2       , 0.8       , 1.        ],\n",
       "       [1.        , 8.        , 0.25      , 1.2       ]])"
      ]
     },
     "execution_count": 67,
     "metadata": {},
     "output_type": "execute_result"
    }
   ],
   "source": [
    "ar/ar2"
   ]
  },
  {
   "cell_type": "code",
   "execution_count": 68,
   "id": "28cde375-9692-4b27-9bb2-0b52b8393352",
   "metadata": {},
   "outputs": [
    {
     "data": {
      "text/plain": [
       "array([[-7, -4, -3,  2],\n",
       "       [ 4,  1, -1,  0],\n",
       "       [ 0,  7, -6,  1]])"
      ]
     },
     "execution_count": 68,
     "metadata": {},
     "output_type": "execute_result"
    }
   ],
   "source": [
    "ar-ar2"
   ]
  },
  {
   "cell_type": "code",
   "execution_count": 69,
   "id": "d98fe8f0-4ac9-4bbb-b5b1-f27022e405b8",
   "metadata": {},
   "outputs": [
    {
     "data": {
      "text/plain": [
       "array([[2, 2, 6, 2],\n",
       "       [4, 1, 4, 0],\n",
       "       [0, 0, 2, 1]])"
      ]
     },
     "execution_count": 69,
     "metadata": {},
     "output_type": "execute_result"
    }
   ],
   "source": [
    "ar%ar2"
   ]
  },
  {
   "cell_type": "code",
   "execution_count": 73,
   "id": "3572f05b-4e8a-470e-9acb-2f9b64015eb8",
   "metadata": {},
   "outputs": [
    {
     "data": {
      "text/plain": [
       "array([[     512,       64, 10077696,   262144],\n",
       "       [   59049,     7776,     1024,    46656],\n",
       "       [       1,        8,      256,     7776]])"
      ]
     },
     "execution_count": 73,
     "metadata": {},
     "output_type": "execute_result"
    }
   ],
   "source": [
    "#for power\n",
    "ar**ar2"
   ]
  },
  {
   "cell_type": "code",
   "execution_count": 75,
   "id": "a9ce8d4d-4e16-45ec-bc76-f600dc20d2d7",
   "metadata": {},
   "outputs": [
    {
     "data": {
      "text/plain": [
       "array([[-10,  -7, -10,  -7],\n",
       "       [ -6,  -6,  -6,  -7],\n",
       "       [ -2,  -2,  -9,  -6]])"
      ]
     },
     "execution_count": 75,
     "metadata": {},
     "output_type": "execute_result"
    }
   ],
   "source": [
    "#ar2 ka -\n",
    "~ar2"
   ]
  },
  {
   "cell_type": "code",
   "execution_count": 77,
   "id": "ff85bc0e-7947-4040-8b89-2f031ea3fbeb",
   "metadata": {},
   "outputs": [
    {
     "data": {
      "text/plain": [
       "array([[11,  6, 15, 14],\n",
       "       [13,  7,  5,  6],\n",
       "       [ 1,  9, 10,  7]])"
      ]
     },
     "execution_count": 77,
     "metadata": {},
     "output_type": "execute_result"
    }
   ],
   "source": [
    "#or opration\n",
    "ar|ar2"
   ]
  },
  {
   "cell_type": "code",
   "execution_count": 78,
   "id": "57148121-092b-438d-86ae-b0255984df08",
   "metadata": {},
   "outputs": [
    {
     "data": {
      "text/plain": [
       "array([[False, False, False,  True],\n",
       "       [ True,  True, False, False],\n",
       "       [False,  True, False,  True]])"
      ]
     },
     "execution_count": 78,
     "metadata": {},
     "output_type": "execute_result"
    }
   ],
   "source": [
    "ar>ar2"
   ]
  },
  {
   "cell_type": "code",
   "execution_count": 82,
   "id": "155e3f60-45da-4be9-a047-15c1d1c2c556",
   "metadata": {},
   "outputs": [
    {
     "data": {
      "text/plain": [
       "array(['samidhasubhane'], dtype='<U14')"
      ]
     },
     "execution_count": 82,
     "metadata": {},
     "output_type": "execute_result"
    }
   ],
   "source": [
    "#Numpy- string function\n",
    "np.array(['samidha''subhane'])"
   ]
  },
  {
   "cell_type": "code",
   "execution_count": 84,
   "id": "19f35612-dc3d-45f4-ab46-ba78fbeab62c",
   "metadata": {},
   "outputs": [],
   "source": [
    "ar3= np.array(['samidha','subhane'])"
   ]
  },
  {
   "cell_type": "code",
   "execution_count": 86,
   "id": "6c419893-f20a-4fc5-8baf-2bfdfcae9bfd",
   "metadata": {},
   "outputs": [
    {
     "data": {
      "text/plain": [
       "array(['SAMIDHA', 'SUBHANE'], dtype='<U7')"
      ]
     },
     "execution_count": 86,
     "metadata": {},
     "output_type": "execute_result"
    }
   ],
   "source": [
    "#convert uppercase\n",
    "np.char.upper(ar3)"
   ]
  },
  {
   "cell_type": "code",
   "execution_count": 87,
   "id": "5fb9ce95-0461-43e4-92af-ca37834d915d",
   "metadata": {},
   "outputs": [
    {
     "data": {
      "text/plain": [
       "array(['Samidha', 'Subhane'], dtype='<U7')"
      ]
     },
     "execution_count": 87,
     "metadata": {},
     "output_type": "execute_result"
    }
   ],
   "source": [
    "np.char.title(ar3)"
   ]
  },
  {
   "cell_type": "code",
   "execution_count": 88,
   "id": "4f61436e-6571-4e1e-9e51-16bab425fa9e",
   "metadata": {},
   "outputs": [
    {
     "data": {
      "text/plain": [
       "array(['Samidha', 'Subhane'], dtype='<U7')"
      ]
     },
     "execution_count": 88,
     "metadata": {},
     "output_type": "execute_result"
    }
   ],
   "source": [
    "np.char.capitalize(ar3)"
   ]
  },
  {
   "cell_type": "code",
   "execution_count": 89,
   "id": "3fe2a656-848f-4a05-9e72-d80f69181bfa",
   "metadata": {},
   "outputs": [
    {
     "data": {
      "text/plain": [
       "array(['samidha', 'subhane'], dtype='<U7')"
      ]
     },
     "execution_count": 89,
     "metadata": {},
     "output_type": "execute_result"
    }
   ],
   "source": [
    "np.char.lower(ar3)"
   ]
  },
  {
   "cell_type": "code",
   "execution_count": 92,
   "id": "b53c6190-1e30-4676-a066-b0082493c592",
   "metadata": {},
   "outputs": [
    {
     "data": {
      "text/plain": [
       "array(['samid', 'subha'], dtype='<U5')"
      ]
     },
     "execution_count": 92,
     "metadata": {},
     "output_type": "execute_result"
    }
   ],
   "source": [
    "np.char.center(ar3,5)"
   ]
  },
  {
   "cell_type": "code",
   "execution_count": 94,
   "id": "d368435f-3551-4a32-8b25-d32982398457",
   "metadata": {},
   "outputs": [],
   "source": [
    "####Numpy Mathematical function"
   ]
  },
  {
   "cell_type": "code",
   "execution_count": 96,
   "id": "e9797c27-b1c3-4863-818d-dbd0f7cfa1c3",
   "metadata": {},
   "outputs": [
    {
     "data": {
      "text/plain": [
       "array([[2, 2, 6, 8],\n",
       "       [9, 6, 4, 6],\n",
       "       [1, 8, 2, 6]])"
      ]
     },
     "execution_count": 96,
     "metadata": {},
     "output_type": "execute_result"
    }
   ],
   "source": [
    "ar"
   ]
  },
  {
   "cell_type": "code",
   "execution_count": 97,
   "id": "d0eeaf85-93e0-48fc-a505-09e35b4c7f8f",
   "metadata": {},
   "outputs": [
    {
     "data": {
      "text/plain": [
       "array([[ 0.90929743,  0.90929743, -0.2794155 ,  0.98935825],\n",
       "       [ 0.41211849, -0.2794155 , -0.7568025 , -0.2794155 ],\n",
       "       [ 0.84147098,  0.98935825,  0.90929743, -0.2794155 ]])"
      ]
     },
     "execution_count": 97,
     "metadata": {},
     "output_type": "execute_result"
    }
   ],
   "source": [
    "np.sin(ar)"
   ]
  },
  {
   "cell_type": "code",
   "execution_count": 98,
   "id": "41e61562-3172-4282-b251-1c6e8f272c11",
   "metadata": {},
   "outputs": [
    {
     "data": {
      "text/plain": [
       "array([[-0.41614684, -0.41614684,  0.96017029, -0.14550003],\n",
       "       [-0.91113026,  0.96017029, -0.65364362,  0.96017029],\n",
       "       [ 0.54030231, -0.14550003, -0.41614684,  0.96017029]])"
      ]
     },
     "execution_count": 98,
     "metadata": {},
     "output_type": "execute_result"
    }
   ],
   "source": [
    "np.cos(ar)"
   ]
  },
  {
   "cell_type": "code",
   "execution_count": 99,
   "id": "74b61c17-431e-4177-b0a8-30766ed12e22",
   "metadata": {},
   "outputs": [
    {
     "data": {
      "text/plain": [
       "array([[0.96402758, 0.96402758, 0.99998771, 0.99999977],\n",
       "       [0.99999997, 0.99998771, 0.9993293 , 0.99998771],\n",
       "       [0.76159416, 0.99999977, 0.96402758, 0.99998771]])"
      ]
     },
     "execution_count": 99,
     "metadata": {},
     "output_type": "execute_result"
    }
   ],
   "source": [
    "np.tanh(ar)"
   ]
  },
  {
   "cell_type": "code",
   "execution_count": 100,
   "id": "78707f1a-f6b1-4d57-8240-2be9d88f65d4",
   "metadata": {},
   "outputs": [
    {
     "data": {
      "text/plain": [
       "array([[0.96402758, 0.99999997, 0.76159416],\n",
       "       [0.96402758, 0.99998771, 0.99999977],\n",
       "       [0.99998771, 0.9993293 , 0.96402758],\n",
       "       [0.99999977, 0.99998771, 0.99998771]])"
      ]
     },
     "execution_count": 100,
     "metadata": {},
     "output_type": "execute_result"
    }
   ],
   "source": [
    "np.tanh(ar).T"
   ]
  },
  {
   "cell_type": "code",
   "execution_count": 101,
   "id": "3fa88990-9cf4-4ac5-8171-1d2cde846120",
   "metadata": {},
   "outputs": [
    {
     "data": {
      "text/plain": [
       "array([[0.30103   , 0.30103   , 0.77815125, 0.90308999],\n",
       "       [0.95424251, 0.77815125, 0.60205999, 0.77815125],\n",
       "       [0.        , 0.90308999, 0.30103   , 0.77815125]])"
      ]
     },
     "execution_count": 101,
     "metadata": {},
     "output_type": "execute_result"
    }
   ],
   "source": [
    "np.log10(ar)"
   ]
  },
  {
   "cell_type": "code",
   "execution_count": 102,
   "id": "17135310-10f5-4d41-8acf-f677882117c5",
   "metadata": {},
   "outputs": [
    {
     "data": {
      "text/plain": [
       "array([[7.38905610e+00, 7.38905610e+00, 4.03428793e+02, 2.98095799e+03],\n",
       "       [8.10308393e+03, 4.03428793e+02, 5.45981500e+01, 4.03428793e+02],\n",
       "       [2.71828183e+00, 2.98095799e+03, 7.38905610e+00, 4.03428793e+02]])"
      ]
     },
     "execution_count": 102,
     "metadata": {},
     "output_type": "execute_result"
    }
   ],
   "source": [
    "#exponent\n",
    "np.exp(ar)"
   ]
  },
  {
   "cell_type": "code",
   "execution_count": 103,
   "id": "6c278277-6522-46d3-b615-459091f2cbbe",
   "metadata": {},
   "outputs": [
    {
     "data": {
      "text/plain": [
       "array([[1.41421356, 1.41421356, 2.44948974, 2.82842712],\n",
       "       [3.        , 2.44948974, 2.        , 2.44948974],\n",
       "       [1.        , 2.82842712, 1.41421356, 2.44948974]])"
      ]
     },
     "execution_count": 103,
     "metadata": {},
     "output_type": "execute_result"
    }
   ],
   "source": [
    "#square root\n",
    "np.sqrt(ar)"
   ]
  },
  {
   "cell_type": "code",
   "execution_count": 105,
   "id": "19893a14-c823-46dc-abfe-f3dde0bbcc5f",
   "metadata": {},
   "outputs": [
    {
     "data": {
      "text/plain": [
       "array([[ 4,  4, 36, 64],\n",
       "       [81, 36, 16, 36],\n",
       "       [ 1, 64,  4, 36]])"
      ]
     },
     "execution_count": 105,
     "metadata": {},
     "output_type": "execute_result"
    }
   ],
   "source": [
    "np.power(ar,2)"
   ]
  },
  {
   "cell_type": "code",
   "execution_count": 106,
   "id": "bed0478d-abe6-4dd3-9acc-c1dc60e1a70c",
   "metadata": {},
   "outputs": [
    {
     "data": {
      "text/plain": [
       "5.0"
      ]
     },
     "execution_count": 106,
     "metadata": {},
     "output_type": "execute_result"
    }
   ],
   "source": [
    "np.mean(ar)"
   ]
  },
  {
   "cell_type": "code",
   "execution_count": 109,
   "id": "5a7b8e69-ba52-45b1-8328-3847022a7dbe",
   "metadata": {},
   "outputs": [
    {
     "data": {
      "text/plain": [
       "array([[2, 2, 0, 2],\n",
       "       [0, 0, 1, 0],\n",
       "       [1, 2, 2, 0]])"
      ]
     },
     "execution_count": 109,
     "metadata": {},
     "output_type": "execute_result"
    }
   ],
   "source": [
    "np.mod(ar,3)"
   ]
  },
  {
   "cell_type": "code",
   "execution_count": 110,
   "id": "47f46106-5bcf-4da4-9b6c-1cc8c20a399f",
   "metadata": {},
   "outputs": [
    {
     "data": {
      "text/plain": [
       "6.0"
      ]
     },
     "execution_count": 110,
     "metadata": {},
     "output_type": "execute_result"
    }
   ],
   "source": [
    "np.median(ar)"
   ]
  },
  {
   "cell_type": "code",
   "execution_count": 112,
   "id": "2ab2e6b3-fcb0-49dd-b34a-0c461bdc0b50",
   "metadata": {},
   "outputs": [
    {
     "data": {
      "text/plain": [
       "2.614064523559687"
      ]
     },
     "execution_count": 112,
     "metadata": {},
     "output_type": "execute_result"
    }
   ],
   "source": [
    "np.std(ar)"
   ]
  },
  {
   "cell_type": "code",
   "execution_count": 113,
   "id": "51220758-fc81-4c14-a0b2-8455b0cb14fc",
   "metadata": {},
   "outputs": [
    {
     "data": {
      "text/plain": [
       "6.833333333333333"
      ]
     },
     "execution_count": 113,
     "metadata": {},
     "output_type": "execute_result"
    }
   ],
   "source": [
    "np.var(ar)"
   ]
  },
  {
   "cell_type": "code",
   "execution_count": 114,
   "id": "7dc9a0a6-fc7a-462b-91ca-518c07f0ca09",
   "metadata": {},
   "outputs": [
    {
     "data": {
      "text/plain": [
       "1"
      ]
     },
     "execution_count": 114,
     "metadata": {},
     "output_type": "execute_result"
    }
   ],
   "source": [
    "np.min(ar)"
   ]
  },
  {
   "cell_type": "code",
   "execution_count": 115,
   "id": "6124308c-47c6-4945-9e02-10dc3239a003",
   "metadata": {},
   "outputs": [
    {
     "data": {
      "text/plain": [
       "9"
      ]
     },
     "execution_count": 115,
     "metadata": {},
     "output_type": "execute_result"
    }
   ],
   "source": [
    "np.max(ar)"
   ]
  },
  {
   "cell_type": "code",
   "execution_count": null,
   "id": "bb3e651d-1277-470e-a7c7-83f7c83edec0",
   "metadata": {},
   "outputs": [],
   "source": []
  },
  {
   "cell_type": "code",
   "execution_count": null,
   "id": "60bbf590-0681-4230-9d70-0a66f61f5cf3",
   "metadata": {},
   "outputs": [],
   "source": []
  },
  {
   "cell_type": "code",
   "execution_count": null,
   "id": "224f4718-3690-438c-8f01-8385f8f35fbb",
   "metadata": {},
   "outputs": [],
   "source": []
  },
  {
   "cell_type": "code",
   "execution_count": null,
   "id": "dadde2ec-bc08-4094-bf45-dc1ef4781767",
   "metadata": {},
   "outputs": [],
   "source": []
  },
  {
   "cell_type": "code",
   "execution_count": 2,
   "id": "bde76242-3d23-4913-9b0c-deaafd663d07",
   "metadata": {},
   "outputs": [],
   "source": [
    "####LECTURE 3"
   ]
  },
  {
   "cell_type": "code",
   "execution_count": 3,
   "id": "d046e4a0-2aeb-4235-98a7-068f38c3773e",
   "metadata": {},
   "outputs": [],
   "source": [
    "#SORT ,SEARCH & COUNTING Function"
   ]
  },
  {
   "cell_type": "code",
   "execution_count": 1,
   "id": "c2506a66-d6c7-4bd9-8cd3-8b052d1448cc",
   "metadata": {},
   "outputs": [],
   "source": [
    "import numpy as np"
   ]
  },
  {
   "cell_type": "code",
   "execution_count": 30,
   "id": "6673412a-c84b-40b2-b329-dde185f383eb",
   "metadata": {},
   "outputs": [],
   "source": [
    "arr4= np.array([2,3,4,22,7,6,9,5,7,8])"
   ]
  },
  {
   "cell_type": "code",
   "execution_count": 9,
   "id": "fb162a66-a5fa-43f3-99f7-4120fbbce0b1",
   "metadata": {},
   "outputs": [
    {
     "data": {
      "text/plain": [
       "array([ 2,  3,  4, 22,  7,  6,  9,  5,  7,  8])"
      ]
     },
     "execution_count": 9,
     "metadata": {},
     "output_type": "execute_result"
    }
   ],
   "source": [
    "arr4"
   ]
  },
  {
   "cell_type": "code",
   "execution_count": 5,
   "id": "585dedf3-ef1f-44ea-83ad-467b272374f9",
   "metadata": {},
   "outputs": [
    {
     "data": {
      "text/plain": [
       "array([ 2,  3,  4,  5,  6,  7,  7,  8,  9, 22])"
      ]
     },
     "execution_count": 5,
     "metadata": {},
     "output_type": "execute_result"
    }
   ],
   "source": [
    "#ascending order sort\n",
    "np.sort(arr4)"
   ]
  },
  {
   "cell_type": "code",
   "execution_count": 8,
   "id": "61f86630-88cf-4d44-92dc-e94a965fc488",
   "metadata": {},
   "outputs": [
    {
     "data": {
      "text/plain": [
       "10"
      ]
     },
     "execution_count": 8,
     "metadata": {},
     "output_type": "execute_result"
    }
   ],
   "source": [
    "#arr4 array ke andar 34 ko kaha daal sakte hai?konse location par jayega so 10th index ke upar\n",
    "np.searchsorted(arr4, 34)"
   ]
  },
  {
   "cell_type": "code",
   "execution_count": 10,
   "id": "111c134f-68f7-4da2-a262-67d67dbbba82",
   "metadata": {},
   "outputs": [],
   "source": [
    "arr5 = np.array([0,345,454,0,0,0,0,0])"
   ]
  },
  {
   "cell_type": "code",
   "execution_count": 12,
   "id": "3821bee3-2d62-4671-bd61-29ca5cfc208c",
   "metadata": {},
   "outputs": [
    {
     "data": {
      "text/plain": [
       "2"
      ]
     },
     "execution_count": 12,
     "metadata": {},
     "output_type": "execute_result"
    }
   ],
   "source": [
    "#want to know kitne non zero data hai\n",
    "np.count_nonzero(arr5)"
   ]
  },
  {
   "cell_type": "code",
   "execution_count": 15,
   "id": "b028127d-0916-459f-805f-7fbbca1f20cf",
   "metadata": {},
   "outputs": [
    {
     "data": {
      "text/plain": [
       "array([  0, 345, 454,   0,   0,   0,   0,   0])"
      ]
     },
     "execution_count": 15,
     "metadata": {},
     "output_type": "execute_result"
    }
   ],
   "source": [
    "arr5"
   ]
  },
  {
   "cell_type": "code",
   "execution_count": 14,
   "id": "9b97d9b0-07d7-4fec-8d59-f1c01304b3ac",
   "metadata": {},
   "outputs": [
    {
     "data": {
      "text/plain": [
       "(array([3, 4, 6, 8, 9]),)"
      ]
     },
     "execution_count": 14,
     "metadata": {},
     "output_type": "execute_result"
    }
   ],
   "source": [
    "#filter More than 6 DATA AUR USKA KYA INDEX HAI,KIS JAGAH PAR VO AVAILABLE HAI\n",
    "#GREATER THAN DATA ON WHIH INDEX TOH-\n",
    "np.where(arr4>6)"
   ]
  },
  {
   "cell_type": "code",
   "execution_count": 18,
   "id": "e3589b24-4efc-4e51-947e-0bce8affbeb2",
   "metadata": {},
   "outputs": [
    {
     "data": {
      "text/plain": [
       "array([345, 454])"
      ]
     },
     "execution_count": 18,
     "metadata": {},
     "output_type": "execute_result"
    }
   ],
   "source": [
    "#WANT TO EXTRACT DATA BASE ON CONDITION greater than 6 so;-\n",
    "np.extract(arr5>3,arr5)"
   ]
  },
  {
   "cell_type": "code",
   "execution_count": 22,
   "id": "559c1635-4d78-41e3-9a67-8b365ec96f73",
   "metadata": {},
   "outputs": [
    {
     "data": {
      "text/plain": [
       "array([4, 8, 4, 4, 4, 8, 6, 6, 8])"
      ]
     },
     "execution_count": 22,
     "metadata": {},
     "output_type": "execute_result"
    }
   ],
   "source": [
    "np.extract(ar>3,ar)"
   ]
  },
  {
   "cell_type": "code",
   "execution_count": null,
   "id": "eefb7f6c-b676-4866-8efb-32c9401fa6f3",
   "metadata": {},
   "outputs": [],
   "source": []
  },
  {
   "cell_type": "code",
   "execution_count": 25,
   "id": "8fe5a00a-1d92-49d9-8f13-3c2967ed09b7",
   "metadata": {},
   "outputs": [
    {
     "data": {
      "text/plain": [
       "array([ 2,  3,  4, 22,  7,  6,  9,  5,  7,  8])"
      ]
     },
     "execution_count": 25,
     "metadata": {},
     "output_type": "execute_result"
    }
   ],
   "source": [
    "#byte swapping\n",
    "arr4"
   ]
  },
  {
   "cell_type": "code",
   "execution_count": 26,
   "id": "f0b271d5-0cab-46bf-8c44-00f895c88ab6",
   "metadata": {},
   "outputs": [
    {
     "data": {
      "text/plain": [
       "array([ 144115188075855872,  216172782113783808,  288230376151711744,\n",
       "       1585267068834414592,  504403158265495552,  432345564227567616,\n",
       "        648518346341351424,  360287970189639680,  504403158265495552,\n",
       "        576460752303423488])"
      ]
     },
     "execution_count": 26,
     "metadata": {},
     "output_type": "execute_result"
    }
   ],
   "source": [
    "arr4.byteswap()"
   ]
  },
  {
   "cell_type": "code",
   "execution_count": null,
   "id": "8cc7b168-90fa-493d-b778-29bae4cf6b7f",
   "metadata": {},
   "outputs": [],
   "source": [
    "\n",
    "\n",
    "#COPIES  & VIEW"
   ]
  },
  {
   "cell_type": "code",
   "execution_count": 35,
   "id": "24aeb7c9-1a7e-4827-b0fb-3c6f78a24b74",
   "metadata": {},
   "outputs": [],
   "source": [
    "a= arr4.copy()\n",
    "#or\n",
    "b= np.copy(arr4)"
   ]
  },
  {
   "cell_type": "code",
   "execution_count": 34,
   "id": "8ad05a08-e8cc-4efa-8428-2191d6ea03c9",
   "metadata": {},
   "outputs": [
    {
     "data": {
      "text/plain": [
       "array([ 2,  3,  4, 22,  7,  6,  9,  5,  7,  8])"
      ]
     },
     "execution_count": 34,
     "metadata": {},
     "output_type": "execute_result"
    }
   ],
   "source": [
    "a"
   ]
  },
  {
   "cell_type": "code",
   "execution_count": 36,
   "id": "5987e392-cd8c-4253-a722-0f474a84a760",
   "metadata": {},
   "outputs": [
    {
     "data": {
      "text/plain": [
       "array([ 2,  3,  4, 22,  7,  6,  9,  5,  7,  8])"
      ]
     },
     "execution_count": 36,
     "metadata": {},
     "output_type": "execute_result"
    }
   ],
   "source": [
    "b"
   ]
  },
  {
   "cell_type": "code",
   "execution_count": 47,
   "id": "bdd74777-e975-4b44-93ea-fb0cca8924b0",
   "metadata": {},
   "outputs": [],
   "source": [
    "####swollo copy concept. changes get permenent\n",
    "##koi new data nahi banata, koi ne\n",
    "c= arr4.view()"
   ]
  },
  {
   "cell_type": "code",
   "execution_count": 43,
   "id": "58d5231b-b6f2-46bc-bb40-9dc0a493dbab",
   "metadata": {},
   "outputs": [
    {
     "data": {
      "text/plain": [
       "array([ 2,  3,  4, 22,  7,  6,  9,  5,  7,  8])"
      ]
     },
     "execution_count": 43,
     "metadata": {},
     "output_type": "execute_result"
    }
   ],
   "source": [
    "c"
   ]
  },
  {
   "cell_type": "code",
   "execution_count": 44,
   "id": "526a5d64-3484-463a-a2f1-2f67cb80a38a",
   "metadata": {},
   "outputs": [],
   "source": [
    "c[0]= 67"
   ]
  },
  {
   "cell_type": "code",
   "execution_count": 45,
   "id": "8988c3b5-9a46-46f8-86f9-b3222e99e245",
   "metadata": {},
   "outputs": [
    {
     "data": {
      "text/plain": [
       "array([67,  3,  4, 22,  7,  6,  9,  5,  7,  8])"
      ]
     },
     "execution_count": 45,
     "metadata": {},
     "output_type": "execute_result"
    }
   ],
   "source": [
    "c"
   ]
  },
  {
   "cell_type": "code",
   "execution_count": 46,
   "id": "63a90544-496e-4f4b-8755-194d2e9541c6",
   "metadata": {},
   "outputs": [
    {
     "data": {
      "text/plain": [
       "array([67,  3,  4, 22,  7,  6,  9,  5,  7,  8])"
      ]
     },
     "execution_count": 46,
     "metadata": {},
     "output_type": "execute_result"
    }
   ],
   "source": [
    "arr4"
   ]
  },
  {
   "cell_type": "code",
   "execution_count": 53,
   "id": "14bebaa6-bbfa-4123-ac64-aea48001fea7",
   "metadata": {},
   "outputs": [],
   "source": [
    "\n",
    "\n",
    "#same implimentation as numpy\n",
    "\n",
    "### Matrix librery"
   ]
  },
  {
   "cell_type": "code",
   "execution_count": 54,
   "id": "c3126e42-c430-4af3-9783-1cab9397fd23",
   "metadata": {},
   "outputs": [],
   "source": [
    "import numpy.matlib as nm\n"
   ]
  },
  {
   "cell_type": "code",
   "execution_count": 55,
   "id": "a932a591-1147-49ba-87d8-66353834cd26",
   "metadata": {},
   "outputs": [
    {
     "data": {
      "text/plain": [
       "matrix([[0., 0., 0., 0., 0.]])"
      ]
     },
     "execution_count": 55,
     "metadata": {},
     "output_type": "execute_result"
    }
   ],
   "source": [
    "#it generetes matrix in this librery numpy ke andar ndarray generet karta tha\n",
    "nm.zeros(5)"
   ]
  },
  {
   "cell_type": "code",
   "execution_count": 56,
   "id": "a6febab1-d71f-4e22-97e2-24856e19775b",
   "metadata": {},
   "outputs": [
    {
     "data": {
      "text/plain": [
       "matrix([[1., 1., 1., 1.],\n",
       "        [1., 1., 1., 1.],\n",
       "        [1., 1., 1., 1.]])"
      ]
     },
     "execution_count": 56,
     "metadata": {},
     "output_type": "execute_result"
    }
   ],
   "source": [
    "nm.ones((3,4))"
   ]
  },
  {
   "cell_type": "code",
   "execution_count": 57,
   "id": "ffa9b767-a8ca-4337-9e1c-f3cc72b909d8",
   "metadata": {},
   "outputs": [
    {
     "data": {
      "text/plain": [
       "matrix([[1., 0., 0., 0., 0.],\n",
       "        [0., 1., 0., 0., 0.],\n",
       "        [0., 0., 1., 0., 0.],\n",
       "        [0., 0., 0., 1., 0.],\n",
       "        [0., 0., 0., 0., 1.]])"
      ]
     },
     "execution_count": 57,
     "metadata": {},
     "output_type": "execute_result"
    }
   ],
   "source": [
    "nm.eye(5)"
   ]
  },
  {
   "cell_type": "code",
   "execution_count": null,
   "id": "6accc4d9-0f5a-4598-9351-aea689b5c5a1",
   "metadata": {},
   "outputs": [],
   "source": []
  },
  {
   "cell_type": "code",
   "execution_count": 59,
   "id": "b4e1f33f-a610-4a0f-ba81-44cf0a8d91cb",
   "metadata": {},
   "outputs": [],
   "source": [
    "\n",
    "\n",
    "####Numpy --- linear algebra"
   ]
  },
  {
   "cell_type": "code",
   "execution_count": 70,
   "id": "ae84c91d-7a5f-48d0-9611-de82415c3d06",
   "metadata": {},
   "outputs": [],
   "source": [
    "arrr1= np.random.randint([[2,3] , [4,5]])"
   ]
  },
  {
   "cell_type": "code",
   "execution_count": 71,
   "id": "6a037215-dcc7-482b-a2c3-1d99b2c7a20c",
   "metadata": {},
   "outputs": [],
   "source": [
    "arrr2= np.random.randint([[5,3] , [2,5]])"
   ]
  },
  {
   "cell_type": "code",
   "execution_count": 73,
   "id": "659b2df8-34e4-42b4-b5e3-eb143adda3bf",
   "metadata": {},
   "outputs": [
    {
     "data": {
      "text/plain": [
       "array([[2, 2],\n",
       "       [3, 2]])"
      ]
     },
     "execution_count": 73,
     "metadata": {},
     "output_type": "execute_result"
    }
   ],
   "source": [
    "np.dot(arrr1, arrr2)"
   ]
  },
  {
   "cell_type": "code",
   "execution_count": 75,
   "id": "84aa0027-dbf0-404f-b205-2029f2a0e536",
   "metadata": {},
   "outputs": [
    {
     "data": {
      "text/plain": [
       "array([[2, 2],\n",
       "       [3, 2]])"
      ]
     },
     "execution_count": 75,
     "metadata": {},
     "output_type": "execute_result"
    }
   ],
   "source": [
    "#same pdt\n",
    "arrr1@arrr2"
   ]
  },
  {
   "cell_type": "code",
   "execution_count": null,
   "id": "f945f176-3222-4221-8c84-012cac1c9319",
   "metadata": {},
   "outputs": [],
   "source": []
  }
 ],
 "metadata": {
  "kernelspec": {
   "display_name": "Python 3 (ipykernel)",
   "language": "python",
   "name": "python3"
  },
  "language_info": {
   "codemirror_mode": {
    "name": "ipython",
    "version": 3
   },
   "file_extension": ".py",
   "mimetype": "text/x-python",
   "name": "python",
   "nbconvert_exporter": "python",
   "pygments_lexer": "ipython3",
   "version": "3.10.8"
  }
 },
 "nbformat": 4,
 "nbformat_minor": 5
}
